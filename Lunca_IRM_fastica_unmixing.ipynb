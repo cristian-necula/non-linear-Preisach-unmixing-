{
 "cells": [
  {
   "cell_type": "code",
   "execution_count": 1,
   "id": "00b5deaa",
   "metadata": {},
   "outputs": [],
   "source": [
    "%matplotlib qt\n",
    "#import mdp\n",
    "import hyperspy.api as hs\n",
    "import numpy as np\n",
    "import matplotlib.pyplot as plt"
   ]
  },
  {
   "cell_type": "code",
   "execution_count": 2,
   "id": "c50e27a6",
   "metadata": {},
   "outputs": [
    {
     "data": {
      "text/plain": [
       "(29, 168)"
      ]
     },
     "execution_count": 2,
     "metadata": {},
     "output_type": "execute_result"
    }
   ],
   "source": [
    "#load data set (168 coercivity distributions from Lunca interpolated to a common field)\n",
    "\n",
    "data = np.genfromtxt(\"Lunca_coercivity_dist.txt\")\n",
    "data.shape"
   ]
  },
  {
   "cell_type": "code",
   "execution_count": 3,
   "id": "20c7065d",
   "metadata": {},
   "outputs": [
    {
     "data": {
      "text/plain": [
       "array([9.994200e-01, 2.201770e+00, 3.643830e+00, 5.374030e+00,\n",
       "       7.455770e+00, 9.952980e+00, 1.295411e+01, 1.654645e+01,\n",
       "       2.087193e+01, 2.607686e+01, 3.228113e+01, 3.975521e+01,\n",
       "       4.875319e+01, 5.955447e+01, 7.255609e+01, 8.814643e+01,\n",
       "       1.068138e+02, 1.292536e+02, 1.562369e+02, 1.886414e+02,\n",
       "       2.274950e+02, 2.742648e+02, 3.301602e+02, 3.975829e+02,\n",
       "       4.782787e+02, 5.755419e+02, 6.918658e+02, 8.321459e+02,\n",
       "       1.000170e+03])"
      ]
     },
     "execution_count": 3,
     "metadata": {},
     "output_type": "execute_result"
    }
   ],
   "source": [
    "#load the interpolation field\n",
    "\n",
    "h = np.genfromtxt(\"field_TM_irm.txt\")\n",
    "h=h.T\n",
    "h"
   ]
  },
  {
   "cell_type": "code",
   "execution_count": 4,
   "id": "370d32f8",
   "metadata": {},
   "outputs": [],
   "source": [
    "# plot the coercivity distributions\n",
    "\n",
    "for i in range(len(data.T)):\n",
    "    plt.plot(np.log10(h),data[:,i])"
   ]
  },
  {
   "cell_type": "code",
   "execution_count": 5,
   "id": "7a328896",
   "metadata": {},
   "outputs": [
    {
     "name": "stdout",
     "output_type": "stream",
     "text": [
      "(168, 29)\n"
     ]
    }
   ],
   "source": [
    "# Transpose the data and Normalize the coercivity distribution to sum to 1\n",
    "\n",
    "data1=data.T\n",
    "data1.shape\n",
    "\n",
    "dataPn=np.zeros((168,29))\n",
    "for i in range(len(data1)):\n",
    "    dataPn[i,:]=(data1[i,:])/(np.sum(data1[i,:]))\n",
    "print(dataPn.shape)\n",
    "for i in range(len(data1)):\n",
    "    plt.plot(np.log10(h),dataPn[i,:])"
   ]
  },
  {
   "cell_type": "code",
   "execution_count": 6,
   "id": "47cd3015",
   "metadata": {},
   "outputs": [
    {
     "data": {
      "text/plain": [
       "<Signal1D, title: , dimensions: (168|29)>"
      ]
     },
     "execution_count": 6,
     "metadata": {},
     "output_type": "execute_result"
    }
   ],
   "source": [
    "# Load the coercivity distributions into the hyperspy\n",
    "\n",
    "s=hs.signals.Signal1D(dataPn)\n",
    "#s=hs.signals.Signal1D(data1)\n",
    "s"
   ]
  },
  {
   "cell_type": "code",
   "execution_count": 7,
   "id": "39613c63",
   "metadata": {},
   "outputs": [
    {
     "name": "stdout",
     "output_type": "stream",
     "text": [
      "Decomposition info:\n",
      "  normalize_poissonian_noise=False\n",
      "  algorithm=SVD\n",
      "  output_dimension=None\n",
      "  centre=None\n"
     ]
    }
   ],
   "source": [
    "# SVD decomposition and plot the explained variance ratio\n",
    "\n",
    "s.decomposition()#algorithm='MLPCA',output_dimension=2)#centre='signal')\n",
    "#s.plot_explained_variance_ratio(n=10)"
   ]
  },
  {
   "cell_type": "code",
   "execution_count": 8,
   "id": "565b4b13",
   "metadata": {},
   "outputs": [
    {
     "data": {
      "text/plain": [
       "Text(0, 0.5, 'Cumulative Variance (%)')"
      ]
     },
     "execution_count": 8,
     "metadata": {},
     "output_type": "execute_result"
    }
   ],
   "source": [
    "# determine the number of end-members by calculating the cumulative variance given by SVD\n",
    "\n",
    "a=s.get_explained_variance_ratio()\n",
    "var=a.data\n",
    "#var\n",
    "varnorm=np.cumsum(var)\n",
    "varnorm\n",
    "pc_idx=np.linspace(1,10,10)\n",
    "plt.plot(pc_idx,varnorm[0:10]*100,'o')\n",
    "plt.xticks(np.arange(1,11,step=1))\n",
    "plt.xlabel('Principal Component index')\n",
    "plt.ylabel('Cumulative Variance (%)')"
   ]
  },
  {
   "cell_type": "code",
   "execution_count": 9,
   "id": "a1b4856c",
   "metadata": {},
   "outputs": [],
   "source": [
    "# import Fastica package\n",
    "\n",
    "from sklearn.decomposition import FastICA"
   ]
  },
  {
   "cell_type": "code",
   "execution_count": 23,
   "id": "26b9b557",
   "metadata": {},
   "outputs": [
    {
     "name": "stdout",
     "output_type": "stream",
     "text": [
      "[########################################] | 100% Completed |  0.1s\n",
      "Blind source separation info:\n",
      "  number_of_components=2\n",
      "  algorithm=FastICA(random_state=1)\n",
      "  diff_order=3\n",
      "  reverse_component_criterion=factors\n",
      "  whiten_method=PCA\n",
      "scikit-learn estimator:\n",
      "FastICA(random_state=1)\n"
     ]
    }
   ],
   "source": [
    "# apply fastica algorithm to the first 2 principal components resulted from SVD\n",
    "\n",
    "s.blind_source_separation(number_of_components=2,algorithm=FastICA(algorithm='parallel',random_state=1),diff_order=3,fun='exp')"
   ]
  },
  {
   "cell_type": "code",
   "execution_count": 25,
   "id": "8477a9cf",
   "metadata": {},
   "outputs": [
    {
     "data": {
      "application/vnd.jupyter.widget-view+json": {
       "model_id": "0c5361a1775e4bc99dce2c07b0bb9fef",
       "version_major": 2,
       "version_minor": 0
      },
      "text/plain": [
       "VBox(children=(HBox(children=(Label(value='BSS component index', layout=Layout(width='15%')), IntSlider(value=…"
      ]
     },
     "metadata": {},
     "output_type": "display_data"
    }
   ],
   "source": [
    "s.plot_bss_results()"
   ]
  },
  {
   "cell_type": "code",
   "execution_count": 26,
   "id": "e8807027",
   "metadata": {},
   "outputs": [],
   "source": [
    "# plot EM1\n",
    "\n",
    "factors=s.get_bss_factors()\n",
    "em1=factors.inav[0].data\n",
    "plt.plot(h,em1)\n",
    "plt.xscale('log')"
   ]
  },
  {
   "cell_type": "code",
   "execution_count": 27,
   "id": "eb27604e",
   "metadata": {},
   "outputs": [],
   "source": [
    "# plot EM2\n",
    "\n",
    "em2=factors.inav[1].data\n",
    "plt.plot(h,em2)\n",
    "plt.xscale('log')"
   ]
  },
  {
   "cell_type": "code",
   "execution_count": 1,
   "id": "a9a01615",
   "metadata": {},
   "outputs": [
    {
     "ename": "NameError",
     "evalue": "name 's' is not defined",
     "output_type": "error",
     "traceback": [
      "\u001b[1;31m---------------------------------------------------------------------------\u001b[0m",
      "\u001b[1;31mNameError\u001b[0m                                 Traceback (most recent call last)",
      "\u001b[1;32m~\\AppData\\Local\\Temp\\ipykernel_14044\\926394988.py\u001b[0m in \u001b[0;36m<module>\u001b[1;34m\u001b[0m\n\u001b[0;32m      1\u001b[0m \u001b[1;31m# calculate and plot the relative contributions. This reproduce Fig. 6b\u001b[0m\u001b[1;33m\u001b[0m\u001b[1;33m\u001b[0m\u001b[1;33m\u001b[0m\u001b[0m\n\u001b[0;32m      2\u001b[0m \u001b[1;33m\u001b[0m\u001b[0m\n\u001b[1;32m----> 3\u001b[1;33m \u001b[0mloadings\u001b[0m\u001b[1;33m=\u001b[0m\u001b[0ms\u001b[0m\u001b[1;33m.\u001b[0m\u001b[0mget_bss_loadings\u001b[0m\u001b[1;33m(\u001b[0m\u001b[1;33m)\u001b[0m\u001b[1;33m\u001b[0m\u001b[1;33m\u001b[0m\u001b[0m\n\u001b[0m\u001b[0;32m      4\u001b[0m \u001b[0mem1_l\u001b[0m\u001b[1;33m=\u001b[0m\u001b[0mloadings\u001b[0m\u001b[1;33m.\u001b[0m\u001b[0minav\u001b[0m\u001b[1;33m[\u001b[0m\u001b[1;36m0\u001b[0m\u001b[1;33m]\u001b[0m\u001b[1;33m.\u001b[0m\u001b[0mdata\u001b[0m\u001b[1;33m\u001b[0m\u001b[1;33m\u001b[0m\u001b[0m\n\u001b[0;32m      5\u001b[0m \u001b[0mem2_l\u001b[0m\u001b[1;33m=\u001b[0m\u001b[0mloadings\u001b[0m\u001b[1;33m.\u001b[0m\u001b[0minav\u001b[0m\u001b[1;33m[\u001b[0m\u001b[1;36m1\u001b[0m\u001b[1;33m]\u001b[0m\u001b[1;33m.\u001b[0m\u001b[0mdata\u001b[0m\u001b[1;33m\u001b[0m\u001b[1;33m\u001b[0m\u001b[0m\n",
      "\u001b[1;31mNameError\u001b[0m: name 's' is not defined"
     ]
    }
   ],
   "source": [
    "# calculate and plot the relative contributions. This reproduce Fig. 6b\n",
    "\n",
    "loadings=s.get_bss_loadings()\n",
    "em1_l=loadings.inav[0].data\n",
    "em2_l=loadings.inav[1].data\n",
    "#em1_l=em1_l+np.abs(np.min(em2_l))\n",
    "#em2_l=em2_l-np.min(em2_l)\n",
    "#em2_l=np.where(em2_l < 0, -1*em2_l, em2_l)\n",
    "#print(em2_l)\n",
    "depth=np.genfromtxt('Lunca_depth_IRM.txt')\n",
    "#depth=cirm[:,0]\n",
    "em2ln=em2_l/(em1_l+em2_l)\n",
    "em1ln=em1_l/(em1_l+em2_l)\n",
    "plt.stackplot(depth,em2ln[:-1],em1ln[:-1],labels=('EM1','EM2'))\n",
    "plt.axhline(y=0.5,color='white')"
   ]
  },
  {
   "cell_type": "code",
   "execution_count": 29,
   "id": "5b725549",
   "metadata": {},
   "outputs": [
    {
     "name": "stderr",
     "output_type": "stream",
     "text": [
      "C:\\Users\\cristian\\anaconda3\\envs\\Hyperspy_Preisach\\lib\\site-packages\\matplotlib\\colors.py:263: VisibleDeprecationWarning: Creating an ndarray from ragged nested sequences (which is a list-or-tuple of lists-or-tuples-or ndarrays with different lengths or shapes) is deprecated. If you meant to do this, you must specify 'dtype=object' when creating the ndarray.\n",
      "  c = np.array(c)\n"
     ]
    }
   ],
   "source": [
    "# put both EMs on the same graph. This reproduce Fig. 6a\n",
    "\n",
    "#em11=np.cumsum(em1*np.diff(np.log10(h1)))*-1\n",
    "#em22=np.cumsum(em2*np.diff(np.log10(h1)))*-1\n",
    "#print(np.min(em22/np.max(em22)))\n",
    "#print(np.min(em11))\n",
    "plt.plot(h,em2/np.sum(em2),label='EM1')\n",
    "plt.plot(h,em1/np.sum(em1),label='EM2')\n",
    "plt.text(6,0.1,'~21mT',fontsize=15)\n",
    "plt.text(40,0.09,'~60mT',fontsize=15)\n",
    "plt.legend(loc='upper right')\n",
    "plt.xscale('log')"
   ]
  },
  {
   "cell_type": "code",
   "execution_count": null,
   "id": "46c89e41",
   "metadata": {},
   "outputs": [],
   "source": []
  }
 ],
 "metadata": {
  "kernelspec": {
   "display_name": "Python 3 (ipykernel)",
   "language": "python",
   "name": "python3"
  },
  "language_info": {
   "codemirror_mode": {
    "name": "ipython",
    "version": 3
   },
   "file_extension": ".py",
   "mimetype": "text/x-python",
   "name": "python",
   "nbconvert_exporter": "python",
   "pygments_lexer": "ipython3",
   "version": "3.7.11"
  }
 },
 "nbformat": 4,
 "nbformat_minor": 5
}
