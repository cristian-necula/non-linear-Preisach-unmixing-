{
 "cells": [
  {
   "cell_type": "code",
   "execution_count": 1,
   "id": "94a38938",
   "metadata": {},
   "outputs": [],
   "source": [
    "%matplotlib qt\n",
    "#import mdp\n",
    "import hyperspy.api as hs\n",
    "import numpy as np\n",
    "import matplotlib.pyplot as plt"
   ]
  },
  {
   "cell_type": "code",
   "execution_count": 2,
   "id": "f9ffe836",
   "metadata": {},
   "outputs": [],
   "source": [
    "#data = np.genfromtxt(\"cosnormint_original.txt\")\n",
    "#data1=data.T\n",
    "#data.shape\n",
    "#print(len(data))"
   ]
  },
  {
   "cell_type": "code",
   "execution_count": 3,
   "id": "58816afa",
   "metadata": {},
   "outputs": [
    {
     "data": {
      "text/plain": [
       "(29, 131)"
      ]
     },
     "execution_count": 3,
     "metadata": {},
     "output_type": "execute_result"
    }
   ],
   "source": [
    "#load data set (131 coercivity distributions from Costinesti interpolated to a common field)\n",
    "\n",
    "data = np.genfromtxt(\"COS_coercivity_dist.txt\")\n",
    "data.shape"
   ]
  },
  {
   "cell_type": "code",
   "execution_count": 4,
   "id": "39129749",
   "metadata": {},
   "outputs": [
    {
     "data": {
      "text/plain": [
       "array([9.994200e-01, 2.201770e+00, 3.643830e+00, 5.374030e+00,\n",
       "       7.455770e+00, 9.952980e+00, 1.295411e+01, 1.654645e+01,\n",
       "       2.087193e+01, 2.607686e+01, 3.228113e+01, 3.975521e+01,\n",
       "       4.875319e+01, 5.955447e+01, 7.255609e+01, 8.814643e+01,\n",
       "       1.068138e+02, 1.292536e+02, 1.562369e+02, 1.886414e+02,\n",
       "       2.274950e+02, 2.742648e+02, 3.301602e+02, 3.975829e+02,\n",
       "       4.782787e+02, 5.755419e+02, 6.918658e+02, 8.321459e+02,\n",
       "       1.000170e+03])"
      ]
     },
     "execution_count": 4,
     "metadata": {},
     "output_type": "execute_result"
    }
   ],
   "source": [
    "#load the interpolation field\n",
    "\n",
    "h = np.genfromtxt(\"field_TM_irm.txt\")\n",
    "h=h.T\n",
    "h"
   ]
  },
  {
   "cell_type": "code",
   "execution_count": 5,
   "id": "f9bbe10f",
   "metadata": {},
   "outputs": [],
   "source": [
    "# plot the coercivity distributions\n",
    "\n",
    "for i in range(len(data.T)):\n",
    "    plt.plot(np.log10(h),data[:,i])"
   ]
  },
  {
   "cell_type": "code",
   "execution_count": 6,
   "id": "aea49c28",
   "metadata": {},
   "outputs": [],
   "source": [
    "#data1=data.T\n",
    "#dataPn=np.zeros((131,29))\n",
    "#for i in range(len(data)):\n",
    "    #dataPn[i,:]=(data1[i,:])/(np.max(data1[i,:]))\n",
    "#for i in range(len(data)):\n",
    "    #plt.plot(np.log10(h),dataPn[i])"
   ]
  },
  {
   "cell_type": "code",
   "execution_count": 6,
   "id": "49c32185",
   "metadata": {},
   "outputs": [
    {
     "data": {
      "text/plain": [
       "(131, 29)"
      ]
     },
     "execution_count": 6,
     "metadata": {},
     "output_type": "execute_result"
    }
   ],
   "source": [
    "# Transpose the data\n",
    "\n",
    "data1=data.T\n",
    "data1.shape"
   ]
  },
  {
   "cell_type": "code",
   "execution_count": 7,
   "id": "9e003973",
   "metadata": {},
   "outputs": [
    {
     "name": "stdout",
     "output_type": "stream",
     "text": [
      "(131, 29)\n"
     ]
    }
   ],
   "source": [
    "# Normalize the coercivity distribution to sum to 1\n",
    "\n",
    "dataPn=np.zeros((131,29))\n",
    "for i in range(len(data1)):\n",
    "    dataPn[i,:]=(data1[i,:])/(np.sum(data1[i,:]))\n",
    "print(dataPn.shape)\n",
    "for i in range(len(data1)):\n",
    "    plt.plot(np.log10(h),dataPn[i,:])"
   ]
  },
  {
   "cell_type": "code",
   "execution_count": 8,
   "id": "f602ed4e",
   "metadata": {},
   "outputs": [
    {
     "data": {
      "text/plain": [
       "<Signal1D, title: , dimensions: (131|29)>"
      ]
     },
     "execution_count": 8,
     "metadata": {},
     "output_type": "execute_result"
    }
   ],
   "source": [
    "# Load the coercivity distributions as 1D data into the hyperspy\n",
    "\n",
    "s=hs.signals.Signal1D(dataPn)\n",
    "#s=hs.signals.Signal1D(data1)\n",
    "s"
   ]
  },
  {
   "cell_type": "code",
   "execution_count": 9,
   "id": "433493a8",
   "metadata": {},
   "outputs": [
    {
     "name": "stdout",
     "output_type": "stream",
     "text": [
      "Decomposition info:\n",
      "  normalize_poissonian_noise=False\n",
      "  algorithm=SVD\n",
      "  output_dimension=None\n",
      "  centre=None\n"
     ]
    }
   ],
   "source": [
    "# SVD decomposition and plot the explained variance ratio\n",
    "\n",
    "s.decomposition()#algorithm='MLPCA',output_dimension=2)#centre='signal')\n",
    "#s.plot_explained_variance_ratio(n=10)"
   ]
  },
  {
   "cell_type": "code",
   "execution_count": 10,
   "id": "65cc6ccc",
   "metadata": {},
   "outputs": [
    {
     "data": {
      "text/plain": [
       "Text(0, 0.5, 'Cumulative Variance (%)')"
      ]
     },
     "execution_count": 10,
     "metadata": {},
     "output_type": "execute_result"
    }
   ],
   "source": [
    "# determine the number of end-members by calculating the cumulative variance given by SVD\n",
    "\n",
    "a=s.get_explained_variance_ratio()\n",
    "var=a.data\n",
    "#var\n",
    "varnorm=np.cumsum(var)\n",
    "varnorm\n",
    "pc_idx=np.linspace(1,10,10)\n",
    "plt.plot(pc_idx,varnorm[0:10]*100,'o')\n",
    "plt.xticks(np.arange(1,11,step=1))\n",
    "plt.xlabel('Principal Component index')\n",
    "plt.ylabel('Cumulative Variance (%)')"
   ]
  },
  {
   "cell_type": "code",
   "execution_count": 11,
   "id": "7ca42bca",
   "metadata": {},
   "outputs": [],
   "source": [
    "# import Fastica package\n",
    "\n",
    "from sklearn.decomposition import FastICA"
   ]
  },
  {
   "cell_type": "code",
   "execution_count": 12,
   "id": "f984fc9d",
   "metadata": {},
   "outputs": [
    {
     "name": "stdout",
     "output_type": "stream",
     "text": [
      "[########################################] | 100% Completed |  0.1s\n",
      "Blind source separation info:\n",
      "  number_of_components=2\n",
      "  algorithm=FastICA(random_state=1)\n",
      "  diff_order=3\n",
      "  reverse_component_criterion=factors\n",
      "  whiten_method=PCA\n",
      "scikit-learn estimator:\n",
      "FastICA(random_state=1)\n"
     ]
    }
   ],
   "source": [
    "# apply fastica algorithm to the first 2 principal components resulted from SVD\n",
    "\n",
    "s.blind_source_separation(number_of_components=2,algorithm=FastICA(algorithm='parallel',random_state=1), diff_order=3,fun='exp')"
   ]
  },
  {
   "cell_type": "code",
   "execution_count": 13,
   "id": "d8dd3a95",
   "metadata": {},
   "outputs": [
    {
     "data": {
      "application/vnd.jupyter.widget-view+json": {
       "model_id": "ce734a0d89134805808367bed1ec248a",
       "version_major": 2,
       "version_minor": 0
      },
      "text/plain": [
       "VBox(children=(HBox(children=(Label(value='BSS component index', layout=Layout(width='15%')), IntSlider(value=…"
      ]
     },
     "metadata": {},
     "output_type": "display_data"
    }
   ],
   "source": [
    "s.plot_bss_results()"
   ]
  },
  {
   "cell_type": "code",
   "execution_count": 14,
   "id": "47979670",
   "metadata": {},
   "outputs": [],
   "source": [
    "# plot EM1\n",
    "\n",
    "factors=s.get_bss_factors()\n",
    "em1=factors.inav[0].data\n",
    "plt.plot(h,em1)\n",
    "plt.xscale('log')"
   ]
  },
  {
   "cell_type": "code",
   "execution_count": 15,
   "id": "5e4c40d6",
   "metadata": {},
   "outputs": [
    {
     "name": "stderr",
     "output_type": "stream",
     "text": [
      "C:\\Users\\cristian\\anaconda3\\envs\\Hyperspy_Preisach\\lib\\site-packages\\matplotlib\\colors.py:263: VisibleDeprecationWarning: Creating an ndarray from ragged nested sequences (which is a list-or-tuple of lists-or-tuples-or ndarrays with different lengths or shapes) is deprecated. If you meant to do this, you must specify 'dtype=object' when creating the ndarray.\n",
      "  c = np.array(c)\n"
     ]
    }
   ],
   "source": [
    "# plot EM2\n",
    "\n",
    "em2=factors.inav[1].data\n",
    "plt.plot(h,em2)\n",
    "plt.xscale('log')"
   ]
  },
  {
   "cell_type": "code",
   "execution_count": 16,
   "id": "1089921d",
   "metadata": {},
   "outputs": [
    {
     "data": {
      "text/plain": [
       "<matplotlib.lines.Line2D at 0x13eb8f60208>"
      ]
     },
     "execution_count": 16,
     "metadata": {},
     "output_type": "execute_result"
    }
   ],
   "source": [
    "# calculate and plot the relative contributions. This reproduce Fig. 6d\n",
    "\n",
    "loadings=s.get_bss_loadings()\n",
    "em1_l=loadings.inav[0].data\n",
    "em2_l=loadings.inav[1].data\n",
    "#em1_l=em1_l+np.abs(np.min(em2_l))\n",
    "#em2_l=em2_l-np.min(em2_l)\n",
    "#em2_l=np.where(em2_l < 0, -1*em2_l, em2_l)\n",
    "#print(em2_l)\n",
    "\n",
    "depth=np.genfromtxt('COS_depth_IRM.txt')\n",
    "#depth=cirm[:,0]\n",
    "em2ln=em2_l/(em1_l+em2_l)\n",
    "em1ln=em1_l/(em1_l+em2_l)\n",
    "plt.stackplot(depth,em2ln,em1ln,labels=('EM1','EM2'))\n",
    "plt.axhline(y=0.5,color='white')"
   ]
  },
  {
   "cell_type": "code",
   "execution_count": 17,
   "id": "62494d3b",
   "metadata": {},
   "outputs": [],
   "source": [
    "# put both EMs on the same graph. This reproduce Fig. 6c\n",
    "\n",
    "#em11=np.cumsum(em1*np.diff(np.log10(h1)))*-1\n",
    "#em22=np.cumsum(em2*np.diff(np.log10(h1)))*-1\n",
    "#print(np.min(em22/np.max(em22)))\n",
    "#print(np.min(em11))\n",
    "plt.plot(h,em2/np.sum(em2),label='EM1')\n",
    "plt.plot(h,em1/np.sum(em1),label='EM2')\n",
    "plt.text(6,0.1,'~21mT',fontsize=15)\n",
    "plt.text(40,0.09,'~60mT',fontsize=15)\n",
    "plt.legend(loc='upper right')\n",
    "plt.xscale('log')"
   ]
  },
  {
   "cell_type": "code",
   "execution_count": 17,
   "id": "ec44a693",
   "metadata": {},
   "outputs": [],
   "source": [
    "np.savetxt('COS_EM1_IRM_fastica.txt',em1ln,delimiter='\\t')\n",
    "np.savetxt('COS_EM2_IRM_fastica.txt',em2ln,delimiter='\\t')"
   ]
  },
  {
   "cell_type": "code",
   "execution_count": null,
   "id": "f8754ab9",
   "metadata": {},
   "outputs": [],
   "source": []
  }
 ],
 "metadata": {
  "kernelspec": {
   "display_name": "Python 3 (ipykernel)",
   "language": "python",
   "name": "python3"
  },
  "language_info": {
   "codemirror_mode": {
    "name": "ipython",
    "version": 3
   },
   "file_extension": ".py",
   "mimetype": "text/x-python",
   "name": "python",
   "nbconvert_exporter": "python",
   "pygments_lexer": "ipython3",
   "version": "3.7.11"
  }
 },
 "nbformat": 4,
 "nbformat_minor": 5
}
