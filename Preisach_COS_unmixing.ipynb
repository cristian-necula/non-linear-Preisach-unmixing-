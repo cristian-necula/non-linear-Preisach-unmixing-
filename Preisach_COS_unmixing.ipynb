{
 "cells": [
  {
   "cell_type": "code",
   "execution_count": 46,
   "id": "a7a84f65",
   "metadata": {},
   "outputs": [],
   "source": [
    "%matplotlib qt\n",
    "import hyperspy.api as hs\n",
    "import numpy as np\n",
    "import matplotlib.pyplot as plt"
   ]
  },
  {
   "cell_type": "code",
   "execution_count": 47,
   "id": "1e2c02fb",
   "metadata": {},
   "outputs": [],
   "source": [
    "import glob"
   ]
  },
  {
   "cell_type": "code",
   "execution_count": 48,
   "id": "e3e12870",
   "metadata": {},
   "outputs": [],
   "source": [
    "# import data (Preisach acquisition curves for all Lunca samples)\n",
    "\n",
    "filenames1 = sorted(glob.glob('*cos_mom_irm_norm.txt'))"
   ]
  },
  {
   "cell_type": "code",
   "execution_count": 49,
   "id": "84becc92",
   "metadata": {},
   "outputs": [
    {
     "data": {
      "text/plain": [
       "['L1_cos_mom_irm_norm.txt',\n",
       " 'L2_cos_mom_irm_norm.txt',\n",
       " 'L3_cos_mom_irm_norm.txt',\n",
       " 'L4_cos_mom_irm_norm.txt',\n",
       " 'L5_cos_mom_irm_norm.txt',\n",
       " 'S0_cos_mom_irm_norm.txt',\n",
       " 'S1_cos_mom_irm_norm.txt',\n",
       " 'S2_cos_mom_irm_norm.txt',\n",
       " 'S3_cos_mom_irm_norm.txt',\n",
       " 'S4_cos_mom_irm_norm.txt',\n",
       " 'S5_cos_mom_irm_norm.txt']"
      ]
     },
     "execution_count": 49,
     "metadata": {},
     "output_type": "execute_result"
    }
   ],
   "source": [
    "filenames1"
   ]
  },
  {
   "cell_type": "code",
   "execution_count": 50,
   "id": "1964acca",
   "metadata": {},
   "outputs": [
    {
     "data": {
      "text/plain": [
       "(11, 50, 50)"
      ]
     },
     "execution_count": 50,
     "metadata": {},
     "output_type": "execute_result"
    }
   ],
   "source": [
    "# gather all data together in the same array\n",
    "\n",
    "dataP=[]\n",
    "for file_path in filenames1:\n",
    "    dataP.append(np.genfromtxt(file_path))\n",
    "dataP=np.array(dataP)\n",
    "dataP.shape"
   ]
  },
  {
   "cell_type": "code",
   "execution_count": 51,
   "id": "6d6c5eee",
   "metadata": {},
   "outputs": [
    {
     "data": {
      "text/plain": [
       "[<matplotlib.lines.Line2D at 0x12e665924c8>,\n",
       " <matplotlib.lines.Line2D at 0x12e66592608>,\n",
       " <matplotlib.lines.Line2D at 0x12e66592908>,\n",
       " <matplotlib.lines.Line2D at 0x12e66592c88>,\n",
       " <matplotlib.lines.Line2D at 0x12e6baca908>,\n",
       " <matplotlib.lines.Line2D at 0x12e6bacaa48>,\n",
       " <matplotlib.lines.Line2D at 0x12e6baca788>,\n",
       " <matplotlib.lines.Line2D at 0x12e6baca708>,\n",
       " <matplotlib.lines.Line2D at 0x12e6bacad08>,\n",
       " <matplotlib.lines.Line2D at 0x12e6bacae48>,\n",
       " <matplotlib.lines.Line2D at 0x12e68a2a988>,\n",
       " <matplotlib.lines.Line2D at 0x12e6ccdee48>,\n",
       " <matplotlib.lines.Line2D at 0x12e6bad95c8>,\n",
       " <matplotlib.lines.Line2D at 0x12e6bad9588>,\n",
       " <matplotlib.lines.Line2D at 0x12e6bad9948>,\n",
       " <matplotlib.lines.Line2D at 0x12e6bad9f88>,\n",
       " <matplotlib.lines.Line2D at 0x12e6bad9448>,\n",
       " <matplotlib.lines.Line2D at 0x12e6bad9dc8>,\n",
       " <matplotlib.lines.Line2D at 0x12e6b4bc248>,\n",
       " <matplotlib.lines.Line2D at 0x12e6b4bc9c8>,\n",
       " <matplotlib.lines.Line2D at 0x12e6b4bce88>,\n",
       " <matplotlib.lines.Line2D at 0x12e6b4bc488>,\n",
       " <matplotlib.lines.Line2D at 0x12e6b4bc208>,\n",
       " <matplotlib.lines.Line2D at 0x12e6b4bc708>,\n",
       " <matplotlib.lines.Line2D at 0x12e68a822c8>,\n",
       " <matplotlib.lines.Line2D at 0x12e6665b808>,\n",
       " <matplotlib.lines.Line2D at 0x12e6665bcc8>,\n",
       " <matplotlib.lines.Line2D at 0x12e6665b6c8>,\n",
       " <matplotlib.lines.Line2D at 0x12e68f981c8>,\n",
       " <matplotlib.lines.Line2D at 0x12e6b51e0c8>,\n",
       " <matplotlib.lines.Line2D at 0x12e6b51eb48>,\n",
       " <matplotlib.lines.Line2D at 0x12e6b51e7c8>,\n",
       " <matplotlib.lines.Line2D at 0x12e6b991648>,\n",
       " <matplotlib.lines.Line2D at 0x12e6b991848>,\n",
       " <matplotlib.lines.Line2D at 0x12e6b991b48>,\n",
       " <matplotlib.lines.Line2D at 0x12e6b991288>,\n",
       " <matplotlib.lines.Line2D at 0x12e6b991a88>,\n",
       " <matplotlib.lines.Line2D at 0x12e6c53ee88>,\n",
       " <matplotlib.lines.Line2D at 0x12e6bae7808>,\n",
       " <matplotlib.lines.Line2D at 0x12e6bae7948>,\n",
       " <matplotlib.lines.Line2D at 0x12e6b999d08>,\n",
       " <matplotlib.lines.Line2D at 0x12e6b999888>,\n",
       " <matplotlib.lines.Line2D at 0x12e6b999988>,\n",
       " <matplotlib.lines.Line2D at 0x12e6b2e9d48>,\n",
       " <matplotlib.lines.Line2D at 0x12e6b2b8948>,\n",
       " <matplotlib.lines.Line2D at 0x12e6b2b8a88>,\n",
       " <matplotlib.lines.Line2D at 0x12e6b2b8788>,\n",
       " <matplotlib.lines.Line2D at 0x12e689b0f48>,\n",
       " <matplotlib.lines.Line2D at 0x12e6c08da08>,\n",
       " <matplotlib.lines.Line2D at 0x12e6b333148>]"
      ]
     },
     "execution_count": 51,
     "metadata": {},
     "output_type": "execute_result"
    }
   ],
   "source": [
    "# plot data no 3 for check\n",
    "\n",
    "plt.plot(dataP[3])"
   ]
  },
  {
   "cell_type": "code",
   "execution_count": 52,
   "id": "1ec5afd0",
   "metadata": {},
   "outputs": [
    {
     "name": "stdout",
     "output_type": "stream",
     "text": [
      "[1. 1. 1. 1. 1. 1. 1. 1. 1. 1. 1. 1. 1. 1. 1. 1. 1. 1. 1. 1. 1. 1. 1. 1.\n",
      " 1. 1. 1. 1. 1. 1. 1. 1. 1. 1. 1. 1. 1. 1. 1. 1. 1. 1. 1. 1. 1. 1. 1. 1.\n",
      " 1. 1.]\n"
     ]
    },
    {
     "data": {
      "text/plain": [
       "[<matplotlib.lines.Line2D at 0x12e6ba87748>,\n",
       " <matplotlib.lines.Line2D at 0x12e6ba87148>,\n",
       " <matplotlib.lines.Line2D at 0x12e6ba876c8>,\n",
       " <matplotlib.lines.Line2D at 0x12e6ba87548>,\n",
       " <matplotlib.lines.Line2D at 0x12e6bace6c8>,\n",
       " <matplotlib.lines.Line2D at 0x12e6bacef48>,\n",
       " <matplotlib.lines.Line2D at 0x12e6bace288>,\n",
       " <matplotlib.lines.Line2D at 0x12e6bace788>,\n",
       " <matplotlib.lines.Line2D at 0x12e6bace948>,\n",
       " <matplotlib.lines.Line2D at 0x12e6baceb88>,\n",
       " <matplotlib.lines.Line2D at 0x12e692bdb08>,\n",
       " <matplotlib.lines.Line2D at 0x12e6b61e5c8>,\n",
       " <matplotlib.lines.Line2D at 0x12e6b61ecc8>,\n",
       " <matplotlib.lines.Line2D at 0x12e6b61e2c8>,\n",
       " <matplotlib.lines.Line2D at 0x12e6b61ee88>,\n",
       " <matplotlib.lines.Line2D at 0x12e6657ffc8>,\n",
       " <matplotlib.lines.Line2D at 0x12e6657f088>,\n",
       " <matplotlib.lines.Line2D at 0x12e6657f748>,\n",
       " <matplotlib.lines.Line2D at 0x12e6657fd48>,\n",
       " <matplotlib.lines.Line2D at 0x12e6657fc08>,\n",
       " <matplotlib.lines.Line2D at 0x12e6657f488>,\n",
       " <matplotlib.lines.Line2D at 0x12e6b4b82c8>,\n",
       " <matplotlib.lines.Line2D at 0x12e6b4b8f08>,\n",
       " <matplotlib.lines.Line2D at 0x12e6b4b8e88>,\n",
       " <matplotlib.lines.Line2D at 0x12e6b4b8648>,\n",
       " <matplotlib.lines.Line2D at 0x12e6b4b8408>,\n",
       " <matplotlib.lines.Line2D at 0x12e6b4b8608>,\n",
       " <matplotlib.lines.Line2D at 0x12e6b4b8048>,\n",
       " <matplotlib.lines.Line2D at 0x12e6b0fcf48>,\n",
       " <matplotlib.lines.Line2D at 0x12e6b0fcb88>,\n",
       " <matplotlib.lines.Line2D at 0x12e6b0fc548>,\n",
       " <matplotlib.lines.Line2D at 0x12e6b0fc7c8>,\n",
       " <matplotlib.lines.Line2D at 0x12e6b0fcfc8>,\n",
       " <matplotlib.lines.Line2D at 0x12e6b0fc5c8>,\n",
       " <matplotlib.lines.Line2D at 0x12e6b0fcb08>,\n",
       " <matplotlib.lines.Line2D at 0x12e68d2f088>,\n",
       " <matplotlib.lines.Line2D at 0x12e68d2f688>,\n",
       " <matplotlib.lines.Line2D at 0x12e68d05d88>,\n",
       " <matplotlib.lines.Line2D at 0x12e69220b88>,\n",
       " <matplotlib.lines.Line2D at 0x12e68d55b08>,\n",
       " <matplotlib.lines.Line2D at 0x12e6bc79688>,\n",
       " <matplotlib.lines.Line2D at 0x12e6bc79188>,\n",
       " <matplotlib.lines.Line2D at 0x12e6bc79588>,\n",
       " <matplotlib.lines.Line2D at 0x12e6bc79788>,\n",
       " <matplotlib.lines.Line2D at 0x12e6bc79c08>,\n",
       " <matplotlib.lines.Line2D at 0x12e6bc79b88>,\n",
       " <matplotlib.lines.Line2D at 0x12e6bc79608>,\n",
       " <matplotlib.lines.Line2D at 0x12e6b02a1c8>,\n",
       " <matplotlib.lines.Line2D at 0x12e6b02ac08>,\n",
       " <matplotlib.lines.Line2D at 0x12e6b02a708>]"
      ]
     },
     "execution_count": 52,
     "metadata": {},
     "output_type": "execute_result"
    }
   ],
   "source": [
    "# normalize to 1 \n",
    "\n",
    "dataPnn=np.zeros((11,50,50))\n",
    "for i in range(len(dataP)):\n",
    "    for j in range(50):\n",
    "        dataPnn[i,:,j]=dataP[i,:,j]/np.max(dataP[i,:,j])\n",
    "    #print(np.max(dataP[:,i,:]))#/np.diff(np.log10(h))\n",
    "print(np.max(dataPnn[3],axis=0))\n",
    "plt.plot(dataPnn[3])"
   ]
  },
  {
   "cell_type": "code",
   "execution_count": 53,
   "id": "bce3bae8",
   "metadata": {},
   "outputs": [
    {
     "data": {
      "text/plain": [
       "<Signal2D, title: , dimensions: (11|50, 50)>"
      ]
     },
     "execution_count": 53,
     "metadata": {},
     "output_type": "execute_result"
    }
   ],
   "source": [
    "# load data as 2D signal in hyperspy\n",
    "\n",
    "s=hs.signals.Signal2D(dataPnn)\n",
    "s"
   ]
  },
  {
   "cell_type": "code",
   "execution_count": 54,
   "id": "7ce0f477",
   "metadata": {},
   "outputs": [
    {
     "name": "stdout",
     "output_type": "stream",
     "text": [
      "Decomposition info:\n",
      "  normalize_poissonian_noise=False\n",
      "  algorithm=SVD\n",
      "  output_dimension=None\n",
      "  centre=None\n"
     ]
    }
   ],
   "source": [
    "# SVD decomposition\n",
    "\n",
    "s.decomposition()"
   ]
  },
  {
   "cell_type": "code",
   "execution_count": 55,
   "id": "74a861f4",
   "metadata": {},
   "outputs": [
    {
     "data": {
      "text/plain": [
       "Text(0, 0.5, 'Cumulative Variance (%)')"
      ]
     },
     "execution_count": 55,
     "metadata": {},
     "output_type": "execute_result"
    }
   ],
   "source": [
    "# determine the number of end-members by calculating the cumulative variance given by SVD\n",
    "\n",
    "a=s.get_explained_variance_ratio()\n",
    "var=a.data\n",
    "#var\n",
    "varnorm=np.cumsum(var)\n",
    "varnorm\n",
    "pc_idx=np.linspace(1,10,10)\n",
    "plt.plot(pc_idx,varnorm[0:10]*100,'o')\n",
    "plt.xticks(np.arange(1,11,step=1))\n",
    "plt.xlabel('Principal Component index')\n",
    "plt.ylabel('Cumulative Variance (%)')"
   ]
  },
  {
   "cell_type": "code",
   "execution_count": 56,
   "id": "35aa4b77",
   "metadata": {},
   "outputs": [],
   "source": [
    "# import Fastica module\n",
    "\n",
    "from sklearn.decomposition import FastICA"
   ]
  },
  {
   "cell_type": "code",
   "execution_count": 67,
   "id": "7ab05246",
   "metadata": {
    "scrolled": false
   },
   "outputs": [
    {
     "name": "stdout",
     "output_type": "stream",
     "text": [
      "[########################################] | 100% Completed |  0.1s\n"
     ]
    },
    {
     "name": "stderr",
     "output_type": "stream",
     "text": [
      "WARNING:hyperspy.misc.signal_tools:Axis calibration mismatch detected along axis 1. The calibration of signal 0 along this axis will be applied to all signals after stacking.\n"
     ]
    },
    {
     "name": "stdout",
     "output_type": "stream",
     "text": [
      "[########################################] | 100% Completed |  0.1s\n",
      "Blind source separation info:\n",
      "  number_of_components=2\n",
      "  algorithm=FastICA(fun='exp', random_state=1)\n",
      "  diff_order=3\n",
      "  reverse_component_criterion=factors\n",
      "  whiten_method=PCA\n",
      "scikit-learn estimator:\n",
      "FastICA(fun='exp', random_state=1)\n"
     ]
    }
   ],
   "source": [
    "# apply Fastica to the first two PCs provided by SVD\n",
    "\n",
    "s.blind_source_separation(number_of_components=2,algorithm=FastICA(algorithm='parallel',random_state=1,fun='exp'),diff_order=3)\n",
    "#s.blind_source_separation(number_of_components=2,algorithm='sklearn_fastica',diff_order=2)"
   ]
  },
  {
   "cell_type": "code",
   "execution_count": 58,
   "id": "4c49743a",
   "metadata": {
    "scrolled": true
   },
   "outputs": [],
   "source": [
    "#s.plot_bss_results()"
   ]
  },
  {
   "cell_type": "code",
   "execution_count": 68,
   "id": "847475ac",
   "metadata": {
    "scrolled": true
   },
   "outputs": [
    {
     "data": {
      "text/plain": [
       "[<matplotlib.lines.Line2D at 0x12e6baaafc8>,\n",
       " <matplotlib.lines.Line2D at 0x12e6baaa688>,\n",
       " <matplotlib.lines.Line2D at 0x12e6baaa988>,\n",
       " <matplotlib.lines.Line2D at 0x12e6baaa888>,\n",
       " <matplotlib.lines.Line2D at 0x12e6baaa908>,\n",
       " <matplotlib.lines.Line2D at 0x12e6ba8b508>,\n",
       " <matplotlib.lines.Line2D at 0x12e6ba8b8c8>,\n",
       " <matplotlib.lines.Line2D at 0x12e6ba8b4c8>,\n",
       " <matplotlib.lines.Line2D at 0x12e6baaa308>,\n",
       " <matplotlib.lines.Line2D at 0x12e6baaab08>,\n",
       " <matplotlib.lines.Line2D at 0x12e69b103c8>,\n",
       " <matplotlib.lines.Line2D at 0x12e66816508>,\n",
       " <matplotlib.lines.Line2D at 0x12e66816b88>,\n",
       " <matplotlib.lines.Line2D at 0x12e6bcaec48>,\n",
       " <matplotlib.lines.Line2D at 0x12e6664fc88>,\n",
       " <matplotlib.lines.Line2D at 0x12e6664f848>,\n",
       " <matplotlib.lines.Line2D at 0x12e6664fd48>,\n",
       " <matplotlib.lines.Line2D at 0x12e6664ff48>,\n",
       " <matplotlib.lines.Line2D at 0x12e6b026708>,\n",
       " <matplotlib.lines.Line2D at 0x12e6b026b88>,\n",
       " <matplotlib.lines.Line2D at 0x12e66252d88>,\n",
       " <matplotlib.lines.Line2D at 0x12e662525c8>,\n",
       " <matplotlib.lines.Line2D at 0x12e66252b88>,\n",
       " <matplotlib.lines.Line2D at 0x12e66252648>,\n",
       " <matplotlib.lines.Line2D at 0x12e66252588>,\n",
       " <matplotlib.lines.Line2D at 0x12e66252e48>,\n",
       " <matplotlib.lines.Line2D at 0x12e6afdc908>,\n",
       " <matplotlib.lines.Line2D at 0x12e6afdc408>,\n",
       " <matplotlib.lines.Line2D at 0x12e6afdc388>,\n",
       " <matplotlib.lines.Line2D at 0x12e6ccae608>,\n",
       " <matplotlib.lines.Line2D at 0x12e6b027148>,\n",
       " <matplotlib.lines.Line2D at 0x12e6b027808>,\n",
       " <matplotlib.lines.Line2D at 0x12e6b027d08>,\n",
       " <matplotlib.lines.Line2D at 0x12e6b027b88>,\n",
       " <matplotlib.lines.Line2D at 0x12e6b0279c8>,\n",
       " <matplotlib.lines.Line2D at 0x12e6b027708>,\n",
       " <matplotlib.lines.Line2D at 0x12e6afe0688>,\n",
       " <matplotlib.lines.Line2D at 0x12e6bb3c688>,\n",
       " <matplotlib.lines.Line2D at 0x12e6bb3c848>,\n",
       " <matplotlib.lines.Line2D at 0x12e6bc7da88>,\n",
       " <matplotlib.lines.Line2D at 0x12e6bb9c308>,\n",
       " <matplotlib.lines.Line2D at 0x12e68a12e08>,\n",
       " <matplotlib.lines.Line2D at 0x12e6bb97f08>,\n",
       " <matplotlib.lines.Line2D at 0x12e69bb2108>,\n",
       " <matplotlib.lines.Line2D at 0x12e6ba37848>,\n",
       " <matplotlib.lines.Line2D at 0x12e68d1a888>,\n",
       " <matplotlib.lines.Line2D at 0x12e6f606b88>,\n",
       " <matplotlib.lines.Line2D at 0x12e6b90bb48>,\n",
       " <matplotlib.lines.Line2D at 0x12e6b90ba08>,\n",
       " <matplotlib.lines.Line2D at 0x12e6b90bf88>]"
      ]
     },
     "execution_count": 68,
     "metadata": {},
     "output_type": "execute_result"
    }
   ],
   "source": [
    "# get EM1 and plot it\n",
    "\n",
    "factors=s.get_bss_factors()\n",
    "em1=factors.inav[0].data\n",
    "plt.plot(em1)"
   ]
  },
  {
   "cell_type": "code",
   "execution_count": 60,
   "id": "2ac75ff4",
   "metadata": {
    "scrolled": true
   },
   "outputs": [
    {
     "data": {
      "text/plain": [
       "[<matplotlib.lines.Line2D at 0x12e6c9d2088>,\n",
       " <matplotlib.lines.Line2D at 0x12e6c9d2608>,\n",
       " <matplotlib.lines.Line2D at 0x12e6c9d2188>,\n",
       " <matplotlib.lines.Line2D at 0x12e6cd93dc8>,\n",
       " <matplotlib.lines.Line2D at 0x12e6cd93548>,\n",
       " <matplotlib.lines.Line2D at 0x12e6ccd4f08>,\n",
       " <matplotlib.lines.Line2D at 0x12e6ce124c8>,\n",
       " <matplotlib.lines.Line2D at 0x12e6ce12ec8>,\n",
       " <matplotlib.lines.Line2D at 0x12e6cd93508>,\n",
       " <matplotlib.lines.Line2D at 0x12e6ccd44c8>,\n",
       " <matplotlib.lines.Line2D at 0x12e6cdfd348>,\n",
       " <matplotlib.lines.Line2D at 0x12e6ce12888>,\n",
       " <matplotlib.lines.Line2D at 0x12e6cd66508>,\n",
       " <matplotlib.lines.Line2D at 0x12e6cd66488>,\n",
       " <matplotlib.lines.Line2D at 0x12e6cd66d48>,\n",
       " <matplotlib.lines.Line2D at 0x12e6cd66788>,\n",
       " <matplotlib.lines.Line2D at 0x12e6b9c1048>,\n",
       " <matplotlib.lines.Line2D at 0x12e6b9c1948>,\n",
       " <matplotlib.lines.Line2D at 0x12e6b9c1b48>,\n",
       " <matplotlib.lines.Line2D at 0x12e6b9c1308>,\n",
       " <matplotlib.lines.Line2D at 0x12e6b9c1388>,\n",
       " <matplotlib.lines.Line2D at 0x12e6b9c18c8>,\n",
       " <matplotlib.lines.Line2D at 0x12e6b9c1f88>,\n",
       " <matplotlib.lines.Line2D at 0x12e6cdf2f08>,\n",
       " <matplotlib.lines.Line2D at 0x12e6cdf2fc8>,\n",
       " <matplotlib.lines.Line2D at 0x12e6cdf2b08>,\n",
       " <matplotlib.lines.Line2D at 0x12e6cdf2288>,\n",
       " <matplotlib.lines.Line2D at 0x12e6cdf2888>,\n",
       " <matplotlib.lines.Line2D at 0x12e6cdf2e88>,\n",
       " <matplotlib.lines.Line2D at 0x12e6cdf2d88>,\n",
       " <matplotlib.lines.Line2D at 0x12e6cded388>,\n",
       " <matplotlib.lines.Line2D at 0x12e6cded308>,\n",
       " <matplotlib.lines.Line2D at 0x12e6cded448>,\n",
       " <matplotlib.lines.Line2D at 0x12e6cded548>,\n",
       " <matplotlib.lines.Line2D at 0x12e6cdeda08>,\n",
       " <matplotlib.lines.Line2D at 0x12e6cdeddc8>,\n",
       " <matplotlib.lines.Line2D at 0x12e6ced6c88>,\n",
       " <matplotlib.lines.Line2D at 0x12e6ced6908>,\n",
       " <matplotlib.lines.Line2D at 0x12e6ced6748>,\n",
       " <matplotlib.lines.Line2D at 0x12e6ced6648>,\n",
       " <matplotlib.lines.Line2D at 0x12e6ced6188>,\n",
       " <matplotlib.lines.Line2D at 0x12e6cde1348>,\n",
       " <matplotlib.lines.Line2D at 0x12e6cde1ec8>,\n",
       " <matplotlib.lines.Line2D at 0x12e6cde1508>,\n",
       " <matplotlib.lines.Line2D at 0x12e6cde1748>,\n",
       " <matplotlib.lines.Line2D at 0x12e6cde1f08>,\n",
       " <matplotlib.lines.Line2D at 0x12e6befd048>,\n",
       " <matplotlib.lines.Line2D at 0x12e6befdc08>,\n",
       " <matplotlib.lines.Line2D at 0x12e6befd808>,\n",
       " <matplotlib.lines.Line2D at 0x12e6c9b4ec8>]"
      ]
     },
     "execution_count": 60,
     "metadata": {},
     "output_type": "execute_result"
    }
   ],
   "source": [
    "# get EM2 and plot it (skip it for diff_order = 3)\n",
    "\n",
    "em2=factors.inav[1].data\n",
    "plt.plot(em2)"
   ]
  },
  {
   "cell_type": "code",
   "execution_count": 61,
   "id": "41542952",
   "metadata": {},
   "outputs": [],
   "source": [
    "# Calculate Preisach map and plot it (see Church et al., 2016)\n",
    "\n",
    "def poza_Preisach_mean(data1,fields1):    \n",
    "    app_fields=np.mean(fields1,axis=0)\n",
    "    #cond_fields=np.genfromtxt('field', delimiter=',', skip_header=93, skip_footer=1,usecols=(0))\n",
    "    cond_fields=fields1[0,:]\n",
    "    cond_fields[0]=app_fields[0]\n",
    "    data2=data1\n",
    "    data3=np.zeros((len(data1),len(data1)))\n",
    "    lastpnt=len(data1)-1\n",
    "    ref=data2[lastpnt,0]\n",
    "    #print(ref)\n",
    "    #print(cond_fields)\n",
    "    #print(app_fields)\n",
    "    #for i in range(len(data1)):\n",
    "        #for j in range(1,len(data1)):\n",
    "            #data3[i,0]=((ref/data2[0,0])*((lastpnt-i)/lastpnt))+((ref/data2[lastpnt,0])*(i/lastpnt))\n",
    "            #data3[i,j]=(ref/data2[lastpnt,j-1])*((lastpnt-i)/lastpnt)+(ref/data2[lastpnt,j])*(i/lastpnt)\n",
    "    #data3=np.array(data3)\n",
    "    #if method == 'Preisach':\n",
    "        #data3=data3*data2\n",
    "    #elif method == 'FORC':\n",
    "        #data3=data2\n",
    "    #else:\n",
    "            #raise ValueError(\"Method must be 'Preisach' or 'FORC'.\")       \n",
    "    data3=data1\n",
    "    #print(data3[:,0]) \n",
    "    deltaM=np.zeros((len(data1)-1, len(data1)-1))\n",
    "    for i in range(len(data1)-1):\n",
    "        for j in range(len(data1)-1):\n",
    "            deltaM[i,j]=((data3[i,j]+data3[i+1,j+1])-(data3[i,j+1]+data3[i+1,j]))*(\n",
    "                (app_fields[i+1]+app_fields[i])*(cond_fields[j+1]+cond_fields[j]))/(\n",
    "               (app_fields[i+1]-app_fields[i])*(cond_fields[j+1]-cond_fields[j]))/8\n",
    "    deltaM=np.array(deltaM)\n",
    "    deltaM=deltaM/np.max(deltaM)\n",
    "    #return(deltaM,app_fields)\n",
    "    #%matplotlib notebook\n",
    "    from matplotlib import cm\n",
    "    from matplotlib.colors import ListedColormap\n",
    "    from matplotlib.colors import LinearSegmentedColormap\n",
    "    import matplotlib.colors as colors\n",
    "    def custom_div_cmap(numcolors=128, name='custom_div_cmap',\n",
    "                    col1='blue', col2='white', col3 = 'green', col4='yellow',col5='red',col6='purple'):\n",
    "        \n",
    "        cmap = LinearSegmentedColormap.from_list(\n",
    "                    name=name, \n",
    "                    colors=[col1, col2, col3, col4 ,col5,col6], \n",
    "                    N=numcolors\n",
    "                )\n",
    "    \n",
    "        return cmap \n",
    "    (cmap)=custom_div_cmap(numcolors=128, name='custom_div_cmap',\n",
    "                    col1='blue', col2='white', col3 = 'green', col4='yellow',col5='red',col6='purple')\n",
    "    colors_undersea = cmap(np.linspace(0, 0.199, 128))\n",
    "    colors_land = cmap(np.linspace(0.2, 1, 128))\n",
    "    divnorm = colors.TwoSlopeNorm(vmin=np.min(deltaM), vcenter=0, vmax=np.max(deltaM))\n",
    "    all_colors = np.vstack((colors_undersea, colors_land))\n",
    "    terrain_map = colors.LinearSegmentedColormap.from_list('terrain_map',\n",
    "        all_colors)\n",
    "    fig, ax = plt.subplots()\n",
    "    cs = ax.pcolor(app_fields[1:]*1000, cond_fields[1:]*1000,np.transpose(deltaM[0:,0:]),cmap=terrain_map,norm=divnorm)\n",
    "    plt.yscale('log')\n",
    "    plt.xscale('log')\n",
    "    #plt.ylim(max(app_fields[1:]*1000),min(app_fields[1:])*1000)\n",
    "    plt.ylim(max(app_fields[1:]*1000),min(app_fields[1:])*1000)\n",
    "    cbar = fig.colorbar(cs)\n",
    "    #fig2, plt.plot(np.sum(np.transpose(deltaM)))\n",
    "    return np.transpose(deltaM)"
   ]
  },
  {
   "cell_type": "code",
   "execution_count": 62,
   "id": "c9717fd5",
   "metadata": {},
   "outputs": [],
   "source": [
    "# load field values for Preisach maps\n",
    "\n",
    "l1=np.genfromtxt('COS-L1_NLP50steps_0.1-1000mT_3sec.csv',delimiter=',',skip_header=241,usecols=(3,4))\n",
    "l1f=np.reshape(l1[:,0],(50,50))\n",
    "l1p=np.reshape(l1[:,1],(50,50))"
   ]
  },
  {
   "cell_type": "code",
   "execution_count": 69,
   "id": "dbea5920",
   "metadata": {
    "scrolled": true
   },
   "outputs": [],
   "source": [
    "#plot EM1 Preisach. Inspect the EM1 Preisach map structure and if you are satisfied with it \n",
    "#(correspond to physically plausible Preisach pattern) you can keep it. If no then perform again Fastica \n",
    "# using a higher derivative order (see the cells bellow). In our case Em1 has no physically plausible aspect (negative region across diagonal)\n",
    "\n",
    "em1p=poza_Preisach_mean(em1,l1f)"
   ]
  },
  {
   "cell_type": "code",
   "execution_count": 64,
   "id": "1692fa99",
   "metadata": {},
   "outputs": [],
   "source": [
    "#plt.xlim(1,1000)\n",
    "#plt.ylim(1000,1)"
   ]
  },
  {
   "cell_type": "code",
   "execution_count": 65,
   "id": "492248a9",
   "metadata": {},
   "outputs": [],
   "source": [
    "# plot EM2 Preisach. Inspect the EM2 Preisach map structure and if you are satisfied with it \n",
    "#(correspond to physically plausible Preisach pattern) you can keep it. If no then perform again Fastica \n",
    "# using a higher derivative order. In our case the second derivative provide a physically plausible EM2. (this reproduce Fig. 5a) \n",
    "\n",
    "em2p=poza_Preisach_mean(em2,l1f)"
   ]
  },
  {
   "cell_type": "code",
   "execution_count": 66,
   "id": "cc876842",
   "metadata": {},
   "outputs": [],
   "source": [
    "# perform fastica using diff order = 2 by setting diff_order = 2 in s.blind_source_separation above and assign the resulted \n",
    "# em2 to final EM2. (this reproduce Fig. 5a) (skip it for diff_order = 3)\n",
    "\n",
    "em2_diff2=em2\n",
    "em2p=poza_Preisach_mean(em2_diff2,l1f)"
   ]
  },
  {
   "cell_type": "code",
   "execution_count": 70,
   "id": "747ea240",
   "metadata": {
    "scrolled": true
   },
   "outputs": [],
   "source": [
    "# perform fastica using diff order = 3 by setting diff_order = 3 in s.blind_source_separation above and assign the resulted \n",
    "# em1 to final EM1 and skip running the cell above!. (this reproduce Fig. 5b) \n",
    "\n",
    "em1_diff3=em1\n",
    "em1p=poza_Preisach_mean(em1_diff3,l1f)"
   ]
  },
  {
   "cell_type": "code",
   "execution_count": 71,
   "id": "86e6bc7c",
   "metadata": {},
   "outputs": [
    {
     "data": {
      "text/plain": [
       "Text(80, 0.06, '~65mT')"
      ]
     },
     "execution_count": 71,
     "metadata": {},
     "output_type": "execute_result"
    }
   ],
   "source": [
    "# calculate and plot the remanence gradient from Preisach maps normalized to sum to 1 ((this reproduce Fig. 5c) )\n",
    "\n",
    "plt.plot(l1f[1][1:]*1000,np.sum(em2p,axis=0)/np.max(np.sum(em2p)))\n",
    "plt.plot(l1f[1][1:]*1000,np.sum(em1p,axis=0)/np.max(np.sum(em1p)))\n",
    "plt.xscale('log')\n",
    "plt.text(3,0.07,'~22mT',fontsize=15)\n",
    "plt.text(80,0.06,'~65mT',fontsize=15)"
   ]
  },
  {
   "cell_type": "code",
   "execution_count": 72,
   "id": "262fdc0a",
   "metadata": {},
   "outputs": [
    {
     "name": "stdout",
     "output_type": "stream",
     "text": [
      "[1. 1. 1. 1. 1. 1. 1. 1. 1. 1. 1. 1. 1. 1. 1. 1. 1. 1. 1. 1. 1. 1. 1. 1.\n",
      " 1. 1. 1. 1. 1. 1. 1. 1. 1. 1. 1. 1. 1. 1. 1. 1. 1. 1. 1. 1. 1. 1. 1. 1.\n",
      " 1. 1.]\n"
     ]
    },
    {
     "data": {
      "text/plain": [
       "[<matplotlib.lines.Line2D at 0x12e6f67f208>,\n",
       " <matplotlib.lines.Line2D at 0x12e6f67f348>,\n",
       " <matplotlib.lines.Line2D at 0x12e6f67f808>,\n",
       " <matplotlib.lines.Line2D at 0x12e6f67f548>,\n",
       " <matplotlib.lines.Line2D at 0x12e6f67fe08>,\n",
       " <matplotlib.lines.Line2D at 0x12e6f67fe48>,\n",
       " <matplotlib.lines.Line2D at 0x12e6b55e8c8>,\n",
       " <matplotlib.lines.Line2D at 0x12e6b55e4c8>,\n",
       " <matplotlib.lines.Line2D at 0x12e6f67f108>,\n",
       " <matplotlib.lines.Line2D at 0x12e6f67fa48>,\n",
       " <matplotlib.lines.Line2D at 0x12e6f69ba88>,\n",
       " <matplotlib.lines.Line2D at 0x12e6b55eb88>,\n",
       " <matplotlib.lines.Line2D at 0x12e6b55e388>,\n",
       " <matplotlib.lines.Line2D at 0x12e6b532c08>,\n",
       " <matplotlib.lines.Line2D at 0x12e6b532b88>,\n",
       " <matplotlib.lines.Line2D at 0x12e6b532848>,\n",
       " <matplotlib.lines.Line2D at 0x12e6b532648>,\n",
       " <matplotlib.lines.Line2D at 0x12e6b532948>,\n",
       " <matplotlib.lines.Line2D at 0x12e6b532248>,\n",
       " <matplotlib.lines.Line2D at 0x12e6b532f48>,\n",
       " <matplotlib.lines.Line2D at 0x12e6b55b2c8>,\n",
       " <matplotlib.lines.Line2D at 0x12e6b55b108>,\n",
       " <matplotlib.lines.Line2D at 0x12e6b55bd88>,\n",
       " <matplotlib.lines.Line2D at 0x12e6b55b448>,\n",
       " <matplotlib.lines.Line2D at 0x12e6b55b788>,\n",
       " <matplotlib.lines.Line2D at 0x12e6b54d288>,\n",
       " <matplotlib.lines.Line2D at 0x12e6b54d3c8>,\n",
       " <matplotlib.lines.Line2D at 0x12e6b54d848>,\n",
       " <matplotlib.lines.Line2D at 0x12e6b54d5c8>,\n",
       " <matplotlib.lines.Line2D at 0x12e6b54dd08>,\n",
       " <matplotlib.lines.Line2D at 0x12e6b5470c8>,\n",
       " <matplotlib.lines.Line2D at 0x12e6b547488>,\n",
       " <matplotlib.lines.Line2D at 0x12e6b547cc8>,\n",
       " <matplotlib.lines.Line2D at 0x12e6b547448>,\n",
       " <matplotlib.lines.Line2D at 0x12e6b5475c8>,\n",
       " <matplotlib.lines.Line2D at 0x12e6b547d88>,\n",
       " <matplotlib.lines.Line2D at 0x12e6b55d808>,\n",
       " <matplotlib.lines.Line2D at 0x12e6b55d9c8>,\n",
       " <matplotlib.lines.Line2D at 0x12e6b55de08>,\n",
       " <matplotlib.lines.Line2D at 0x12e6b55d288>,\n",
       " <matplotlib.lines.Line2D at 0x12e6b55d088>,\n",
       " <matplotlib.lines.Line2D at 0x12e6b546e48>,\n",
       " <matplotlib.lines.Line2D at 0x12e6b5466c8>,\n",
       " <matplotlib.lines.Line2D at 0x12e6b546ec8>,\n",
       " <matplotlib.lines.Line2D at 0x12e6b546788>,\n",
       " <matplotlib.lines.Line2D at 0x12e6b546ac8>,\n",
       " <matplotlib.lines.Line2D at 0x12e6b546088>,\n",
       " <matplotlib.lines.Line2D at 0x12e697841c8>,\n",
       " <matplotlib.lines.Line2D at 0x12e697b0ac8>,\n",
       " <matplotlib.lines.Line2D at 0x12e6b531308>]"
      ]
     },
     "execution_count": 72,
     "metadata": {},
     "output_type": "execute_result"
    }
   ],
   "source": [
    "# normalize EM1\n",
    "\n",
    "em1_diff3n=np.zeros((50,50))\n",
    "for i in range(len(em1_diff3)):\n",
    "    em1_diff3n[i,:]=em1_diff3[i,:]/np.max(em1_diff3[i,:])\n",
    "    #print(np.max(dataP[:,i,:]))#/np.diff(np.log10(h))\n",
    "print(np.max(em1_diff3n,axis=1))\n",
    "plt.plot(em1_diff3n)"
   ]
  },
  {
   "cell_type": "code",
   "execution_count": 73,
   "id": "5bd2896d",
   "metadata": {},
   "outputs": [],
   "source": [
    "em1pn=poza_Preisach_mean(em1_diff3n,l1f)"
   ]
  },
  {
   "cell_type": "code",
   "execution_count": 74,
   "id": "cf97b88a",
   "metadata": {},
   "outputs": [
    {
     "name": "stdout",
     "output_type": "stream",
     "text": [
      "[1. 1. 1. 1. 1. 1. 1. 1. 1. 1. 1. 1. 1. 1. 1. 1. 1. 1. 1. 1. 1. 1. 1. 1.\n",
      " 1. 1. 1. 1. 1. 1. 1. 1. 1. 1. 1. 1. 1. 1. 1. 1. 1. 1. 1. 1. 1. 1. 1. 1.\n",
      " 1. 1.]\n"
     ]
    },
    {
     "data": {
      "text/plain": [
       "[<matplotlib.lines.Line2D at 0x12e6bc34f08>,\n",
       " <matplotlib.lines.Line2D at 0x12e6bc50088>,\n",
       " <matplotlib.lines.Line2D at 0x12e6c93a248>,\n",
       " <matplotlib.lines.Line2D at 0x12e6c93aa48>,\n",
       " <matplotlib.lines.Line2D at 0x12e6c93a848>,\n",
       " <matplotlib.lines.Line2D at 0x12e6c93a948>,\n",
       " <matplotlib.lines.Line2D at 0x12e6c93ab48>,\n",
       " <matplotlib.lines.Line2D at 0x12e6c93a308>,\n",
       " <matplotlib.lines.Line2D at 0x12e6c93ac48>,\n",
       " <matplotlib.lines.Line2D at 0x12e6c93a1c8>,\n",
       " <matplotlib.lines.Line2D at 0x12e6bc3a648>,\n",
       " <matplotlib.lines.Line2D at 0x12e6bc3d0c8>,\n",
       " <matplotlib.lines.Line2D at 0x12e6bc3ddc8>,\n",
       " <matplotlib.lines.Line2D at 0x12e6bc3d7c8>,\n",
       " <matplotlib.lines.Line2D at 0x12e6bc3d608>,\n",
       " <matplotlib.lines.Line2D at 0x12e6bc4a408>,\n",
       " <matplotlib.lines.Line2D at 0x12e6bc4a848>,\n",
       " <matplotlib.lines.Line2D at 0x12e6bc4a608>,\n",
       " <matplotlib.lines.Line2D at 0x12e6f2deb48>,\n",
       " <matplotlib.lines.Line2D at 0x12e6f2de548>,\n",
       " <matplotlib.lines.Line2D at 0x12e6f2de208>,\n",
       " <matplotlib.lines.Line2D at 0x12e6f2de448>,\n",
       " <matplotlib.lines.Line2D at 0x12e6f2dee48>,\n",
       " <matplotlib.lines.Line2D at 0x12e6f2de088>,\n",
       " <matplotlib.lines.Line2D at 0x12e6bbf81c8>,\n",
       " <matplotlib.lines.Line2D at 0x12e6bc44588>,\n",
       " <matplotlib.lines.Line2D at 0x12e6bc44488>,\n",
       " <matplotlib.lines.Line2D at 0x12e6bc44f88>,\n",
       " <matplotlib.lines.Line2D at 0x12e6bc440c8>,\n",
       " <matplotlib.lines.Line2D at 0x12e6c94cf88>,\n",
       " <matplotlib.lines.Line2D at 0x12e6bc35848>,\n",
       " <matplotlib.lines.Line2D at 0x12e6bc35288>,\n",
       " <matplotlib.lines.Line2D at 0x12e6bc35488>,\n",
       " <matplotlib.lines.Line2D at 0x12e6c940048>,\n",
       " <matplotlib.lines.Line2D at 0x12e6c940248>,\n",
       " <matplotlib.lines.Line2D at 0x12e6c9405c8>,\n",
       " <matplotlib.lines.Line2D at 0x12e6c940cc8>,\n",
       " <matplotlib.lines.Line2D at 0x12e6c940b08>,\n",
       " <matplotlib.lines.Line2D at 0x12e6c9409c8>,\n",
       " <matplotlib.lines.Line2D at 0x12e6c944588>,\n",
       " <matplotlib.lines.Line2D at 0x12e6c944248>,\n",
       " <matplotlib.lines.Line2D at 0x12e6c944988>,\n",
       " <matplotlib.lines.Line2D at 0x12e6c944d08>,\n",
       " <matplotlib.lines.Line2D at 0x12e6c944348>,\n",
       " <matplotlib.lines.Line2D at 0x12e6c948688>,\n",
       " <matplotlib.lines.Line2D at 0x12e6c948148>,\n",
       " <matplotlib.lines.Line2D at 0x12e6c948588>,\n",
       " <matplotlib.lines.Line2D at 0x12e6c9483c8>,\n",
       " <matplotlib.lines.Line2D at 0x12e6c9484c8>,\n",
       " <matplotlib.lines.Line2D at 0x12e6c945b88>]"
      ]
     },
     "execution_count": 74,
     "metadata": {},
     "output_type": "execute_result"
    }
   ],
   "source": [
    "# normalize EM2\n",
    "\n",
    "em2_diff2n=np.zeros((50,50))\n",
    "for i in range(len(em2_diff2)):\n",
    "    em2_diff2n[i,:]=em2_diff2[i,:]/np.max(em2_diff2[i,:])\n",
    "    #print(np.max(dataP[:,i,:]))#/np.diff(np.log10(h))\n",
    "print(np.max(em2_diff2n,axis=1))\n",
    "plt.plot(em2_diff2n)"
   ]
  },
  {
   "cell_type": "code",
   "execution_count": 75,
   "id": "94333892",
   "metadata": {},
   "outputs": [],
   "source": [
    "em2pn=poza_Preisach_mean(em2_diff2n,l1f)"
   ]
  },
  {
   "cell_type": "code",
   "execution_count": 76,
   "id": "4fe47463",
   "metadata": {},
   "outputs": [
    {
     "data": {
      "text/plain": [
       "(11, 2500)"
      ]
     },
     "execution_count": 76,
     "metadata": {},
     "output_type": "execute_result"
    }
   ],
   "source": [
    "# normalized initial data (Preisach IRM acquisition curves)\n",
    "\n",
    "data_init=dataPnn.reshape((11,2500))\n",
    "data_init.shape"
   ]
  },
  {
   "cell_type": "code",
   "execution_count": 77,
   "id": "0611b4cd",
   "metadata": {},
   "outputs": [
    {
     "data": {
      "text/plain": [
       "(2500,)"
      ]
     },
     "execution_count": 77,
     "metadata": {},
     "output_type": "execute_result"
    }
   ],
   "source": [
    "# vectorize EM2\n",
    "\n",
    "em2_diff2n_n=em2_diff2n.flatten()\n",
    "em2_diff2n_n.shape"
   ]
  },
  {
   "cell_type": "code",
   "execution_count": 78,
   "id": "4e28f53b",
   "metadata": {},
   "outputs": [
    {
     "data": {
      "text/plain": [
       "(2500,)"
      ]
     },
     "execution_count": 78,
     "metadata": {},
     "output_type": "execute_result"
    }
   ],
   "source": [
    "# vectorize EM1\n",
    "\n",
    "em1_diff3n_n=em1_diff3n.flatten()\n",
    "em1_diff3n_n.shape"
   ]
  },
  {
   "cell_type": "code",
   "execution_count": 79,
   "id": "643473a1",
   "metadata": {},
   "outputs": [
    {
     "data": {
      "text/plain": [
       "(2, 2500)"
      ]
     },
     "execution_count": 79,
     "metadata": {},
     "output_type": "execute_result"
    }
   ],
   "source": [
    "# stack them forming thus the ems matrix\n",
    "\n",
    "ems=np.vstack((em2_diff2n_n,em1_diff3n_n))\n",
    "ems.shape"
   ]
  },
  {
   "cell_type": "code",
   "execution_count": 80,
   "id": "faad979a",
   "metadata": {},
   "outputs": [],
   "source": [
    "# calculate the pseudo inverse of the ems matrix\n",
    "\n",
    "ems_pinv=np.linalg.pinv(ems)"
   ]
  },
  {
   "cell_type": "code",
   "execution_count": 81,
   "id": "05ace024",
   "metadata": {},
   "outputs": [
    {
     "data": {
      "text/plain": [
       "(11, 2)"
      ]
     },
     "execution_count": 81,
     "metadata": {},
     "output_type": "execute_result"
    }
   ],
   "source": [
    "# calculate the relative contributions by matrix multiplication between the initial data and pseudo inverse of the ems matrix\n",
    "\n",
    "ab=np.matmul(data_init,ems_pinv)\n",
    "ab.shape"
   ]
  },
  {
   "cell_type": "code",
   "execution_count": 82,
   "id": "4e4524e0",
   "metadata": {},
   "outputs": [
    {
     "name": "stderr",
     "output_type": "stream",
     "text": [
      "WARNING:matplotlib.legend:No handles with labels found to put in legend.\n"
     ]
    },
    {
     "data": {
      "text/plain": [
       "<matplotlib.lines.Line2D at 0x12e70606448>"
      ]
     },
     "execution_count": 82,
     "metadata": {},
     "output_type": "execute_result"
    }
   ],
   "source": [
    "# stack plot of the relative contributiona. (this reproduce Fig. 5d) \n",
    "\n",
    "\n",
    "ab1ln=ab[:,0]/(ab[:,0]+ab[:,1])\n",
    "ab2ln=ab[:,1]/(ab[:,0]+ab[:,1])\n",
    "ab1n=np.array([ab1ln[5],ab1ln[0],ab1ln[6],ab1ln[1],ab1ln[7],ab1ln[2],ab1ln[8],ab1ln[3],ab1ln[9],ab1ln[4],ab1ln[10]])\n",
    "ab2n=np.array([ab2ln[5],ab2ln[0],ab2ln[6],ab2ln[1],ab2ln[7],ab2ln[2],ab2ln[8],ab2ln[3],ab2ln[9],ab2ln[4],ab2ln[10]])\n",
    "#print(em1ln)\n",
    "#print(em2ln)\n",
    "\n",
    "#em1ln+em2ln\n",
    "depth=np.genfromtxt('COS_depth_Preisach.txt')\n",
    "#depth=pcomb[:,0]\n",
    "plt.stackplot(depth,ab1n,ab2n)\n",
    "#plt.stackplot(pcomb[:,0],pcomb[:,1],pcomb[:,2],labels=('EM1','EM2'))\n",
    "plt.legend(loc='upper left')\n",
    "plt.axhline(y=0.5,color='white')\n",
    "\n",
    "#xx=np.linspace(1,11,11)\n",
    "#plt.stackplot(range(1,12),ab1n,ab2n)\n",
    "\n",
    "\n",
    "#plt.axhline(y=0.5,color='white')"
   ]
  },
  {
   "cell_type": "code",
   "execution_count": 47,
   "id": "a727bfcc",
   "metadata": {},
   "outputs": [],
   "source": [
    "np.savetxt('COS_EM1_Preisach_fastica_combinat.txt',ab1n,delimiter='\\t')\n",
    "np.savetxt('COS_EM2_Preisach_fastica_combinat.txt',ab2n,delimiter='\\t')"
   ]
  },
  {
   "cell_type": "code",
   "execution_count": null,
   "id": "2f377e6f",
   "metadata": {},
   "outputs": [],
   "source": []
  }
 ],
 "metadata": {
  "kernelspec": {
   "display_name": "Python 3 (ipykernel)",
   "language": "python",
   "name": "python3"
  },
  "language_info": {
   "codemirror_mode": {
    "name": "ipython",
    "version": 3
   },
   "file_extension": ".py",
   "mimetype": "text/x-python",
   "name": "python",
   "nbconvert_exporter": "python",
   "pygments_lexer": "ipython3",
   "version": "3.7.11"
  }
 },
 "nbformat": 4,
 "nbformat_minor": 5
}
