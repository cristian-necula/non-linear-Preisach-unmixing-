{
 "cells": [
  {
   "cell_type": "code",
   "execution_count": 1,
   "id": "5d2ee7fb",
   "metadata": {},
   "outputs": [],
   "source": [
    "%matplotlib qt\n",
    "import hyperspy.api as hs\n",
    "import numpy as np\n",
    "import matplotlib.pyplot as plt"
   ]
  },
  {
   "cell_type": "code",
   "execution_count": 2,
   "id": "b5a13b15",
   "metadata": {},
   "outputs": [],
   "source": [
    "import glob"
   ]
  },
  {
   "cell_type": "code",
   "execution_count": 3,
   "id": "0bebb81c",
   "metadata": {},
   "outputs": [],
   "source": [
    "# import data (Preisach acquisition curves for all Lunca samples)\n",
    "\n",
    "filenames1 = sorted(glob.glob('*TM_P_mom_irm_norm.txt'))"
   ]
  },
  {
   "cell_type": "code",
   "execution_count": 4,
   "id": "56d3a2c2",
   "metadata": {},
   "outputs": [
    {
     "data": {
      "text/plain": [
       "['L1_TM_P_mom_irm_norm.txt',\n",
       " 'L2_TM_P_mom_irm_norm.txt',\n",
       " 'L3_TM_P_mom_irm_norm.txt',\n",
       " 'L4_TM_P_mom_irm_norm.txt',\n",
       " 'L5_TM_P_mom_irm_norm.txt',\n",
       " 'L6_TM_P_mom_irm_norm.txt',\n",
       " 'S0_TM_P_mom_irm_norm.txt',\n",
       " 'S1_TM_P_mom_irm_norm.txt',\n",
       " 'S2_TM_P_mom_irm_norm.txt',\n",
       " 'S3_TM_P_mom_irm_norm.txt',\n",
       " 'S4_TM_P_mom_irm_norm.txt',\n",
       " 'S5_TM_P_mom_irm_norm.txt',\n",
       " 'S6_TM_P_mom_irm_norm.txt']"
      ]
     },
     "execution_count": 4,
     "metadata": {},
     "output_type": "execute_result"
    }
   ],
   "source": [
    "filenames1"
   ]
  },
  {
   "cell_type": "code",
   "execution_count": 5,
   "id": "11deb212",
   "metadata": {},
   "outputs": [
    {
     "data": {
      "text/plain": [
       "(13, 50, 50)"
      ]
     },
     "execution_count": 5,
     "metadata": {},
     "output_type": "execute_result"
    }
   ],
   "source": [
    "# gather all data together in the same array\n",
    "\n",
    "dataP=[]\n",
    "for file_path in filenames1:\n",
    "    dataP.append(np.genfromtxt(file_path))\n",
    "dataP=np.array(dataP)\n",
    "dataP.shape"
   ]
  },
  {
   "cell_type": "code",
   "execution_count": 6,
   "id": "301c5e71",
   "metadata": {},
   "outputs": [
    {
     "data": {
      "text/plain": [
       "[<matplotlib.lines.Line2D at 0x225d13fa1c8>,\n",
       " <matplotlib.lines.Line2D at 0x225d41c63c8>,\n",
       " <matplotlib.lines.Line2D at 0x225d41c6588>,\n",
       " <matplotlib.lines.Line2D at 0x225d41c6748>,\n",
       " <matplotlib.lines.Line2D at 0x225d41c6988>,\n",
       " <matplotlib.lines.Line2D at 0x225d41c6c08>,\n",
       " <matplotlib.lines.Line2D at 0x225d41c6e08>,\n",
       " <matplotlib.lines.Line2D at 0x225d41cc088>,\n",
       " <matplotlib.lines.Line2D at 0x225d41c6908>,\n",
       " <matplotlib.lines.Line2D at 0x225d41c6b88>,\n",
       " <matplotlib.lines.Line2D at 0x225d1548308>,\n",
       " <matplotlib.lines.Line2D at 0x225d41cc8c8>,\n",
       " <matplotlib.lines.Line2D at 0x225d41ccb08>,\n",
       " <matplotlib.lines.Line2D at 0x225d41ccd48>,\n",
       " <matplotlib.lines.Line2D at 0x225d41ccf88>,\n",
       " <matplotlib.lines.Line2D at 0x225d41ce208>,\n",
       " <matplotlib.lines.Line2D at 0x225d41ce448>,\n",
       " <matplotlib.lines.Line2D at 0x225d41ce688>,\n",
       " <matplotlib.lines.Line2D at 0x225d41ce8c8>,\n",
       " <matplotlib.lines.Line2D at 0x225d41ceb08>,\n",
       " <matplotlib.lines.Line2D at 0x225d41ced48>,\n",
       " <matplotlib.lines.Line2D at 0x225d41cef88>,\n",
       " <matplotlib.lines.Line2D at 0x225d41d1208>,\n",
       " <matplotlib.lines.Line2D at 0x225d41d1448>,\n",
       " <matplotlib.lines.Line2D at 0x225d41d1688>,\n",
       " <matplotlib.lines.Line2D at 0x225d41d18c8>,\n",
       " <matplotlib.lines.Line2D at 0x225d41d1b08>,\n",
       " <matplotlib.lines.Line2D at 0x225d41d1d48>,\n",
       " <matplotlib.lines.Line2D at 0x225d41d1f88>,\n",
       " <matplotlib.lines.Line2D at 0x225d41d4208>,\n",
       " <matplotlib.lines.Line2D at 0x225d41d4448>,\n",
       " <matplotlib.lines.Line2D at 0x225d41d4688>,\n",
       " <matplotlib.lines.Line2D at 0x225d41d48c8>,\n",
       " <matplotlib.lines.Line2D at 0x225d41d4b08>,\n",
       " <matplotlib.lines.Line2D at 0x225d41d4d48>,\n",
       " <matplotlib.lines.Line2D at 0x225d41d4f88>,\n",
       " <matplotlib.lines.Line2D at 0x225d41d7208>,\n",
       " <matplotlib.lines.Line2D at 0x225d41d7448>,\n",
       " <matplotlib.lines.Line2D at 0x225d41d7688>,\n",
       " <matplotlib.lines.Line2D at 0x225d41d78c8>,\n",
       " <matplotlib.lines.Line2D at 0x225d41d7b08>,\n",
       " <matplotlib.lines.Line2D at 0x225d41d7d48>,\n",
       " <matplotlib.lines.Line2D at 0x225d41d7f88>,\n",
       " <matplotlib.lines.Line2D at 0x225d41da208>,\n",
       " <matplotlib.lines.Line2D at 0x225d41da448>,\n",
       " <matplotlib.lines.Line2D at 0x225d41da688>,\n",
       " <matplotlib.lines.Line2D at 0x225d41da8c8>,\n",
       " <matplotlib.lines.Line2D at 0x225d41dab08>,\n",
       " <matplotlib.lines.Line2D at 0x225d41dad48>,\n",
       " <matplotlib.lines.Line2D at 0x225d41daf88>]"
      ]
     },
     "execution_count": 6,
     "metadata": {},
     "output_type": "execute_result"
    }
   ],
   "source": [
    "# plot data no 3 for check\n",
    "\n",
    "plt.plot(dataP[3])"
   ]
  },
  {
   "cell_type": "code",
   "execution_count": 7,
   "id": "7b57559e",
   "metadata": {},
   "outputs": [
    {
     "name": "stdout",
     "output_type": "stream",
     "text": [
      "[1. 1. 1. 1. 1. 1. 1. 1. 1. 1. 1. 1. 1. 1. 1. 1. 1. 1. 1. 1. 1. 1. 1. 1.\n",
      " 1. 1. 1. 1. 1. 1. 1. 1. 1. 1. 1. 1. 1. 1. 1. 1. 1. 1. 1. 1. 1. 1. 1. 1.\n",
      " 1. 1.]\n"
     ]
    },
    {
     "data": {
      "text/plain": [
       "[<matplotlib.lines.Line2D at 0x225d2858a08>,\n",
       " <matplotlib.lines.Line2D at 0x225d2858c08>,\n",
       " <matplotlib.lines.Line2D at 0x225d2858dc8>,\n",
       " <matplotlib.lines.Line2D at 0x225d2858f88>,\n",
       " <matplotlib.lines.Line2D at 0x225d285d208>,\n",
       " <matplotlib.lines.Line2D at 0x225d285d488>,\n",
       " <matplotlib.lines.Line2D at 0x225d285d688>,\n",
       " <matplotlib.lines.Line2D at 0x225d285d8c8>,\n",
       " <matplotlib.lines.Line2D at 0x225d285d188>,\n",
       " <matplotlib.lines.Line2D at 0x225d285d408>,\n",
       " <matplotlib.lines.Line2D at 0x225d2858a48>,\n",
       " <matplotlib.lines.Line2D at 0x225d2864148>,\n",
       " <matplotlib.lines.Line2D at 0x225d2864388>,\n",
       " <matplotlib.lines.Line2D at 0x225d28645c8>,\n",
       " <matplotlib.lines.Line2D at 0x225d2864808>,\n",
       " <matplotlib.lines.Line2D at 0x225d2864a48>,\n",
       " <matplotlib.lines.Line2D at 0x225d2864c88>,\n",
       " <matplotlib.lines.Line2D at 0x225d2864ec8>,\n",
       " <matplotlib.lines.Line2D at 0x225d2867148>,\n",
       " <matplotlib.lines.Line2D at 0x225d2867388>,\n",
       " <matplotlib.lines.Line2D at 0x225d28675c8>,\n",
       " <matplotlib.lines.Line2D at 0x225d2867808>,\n",
       " <matplotlib.lines.Line2D at 0x225d2867a48>,\n",
       " <matplotlib.lines.Line2D at 0x225d2867c88>,\n",
       " <matplotlib.lines.Line2D at 0x225d2867ec8>,\n",
       " <matplotlib.lines.Line2D at 0x225d2869148>,\n",
       " <matplotlib.lines.Line2D at 0x225d2869388>,\n",
       " <matplotlib.lines.Line2D at 0x225d28695c8>,\n",
       " <matplotlib.lines.Line2D at 0x225d2869808>,\n",
       " <matplotlib.lines.Line2D at 0x225d2869a48>,\n",
       " <matplotlib.lines.Line2D at 0x225d2869c88>,\n",
       " <matplotlib.lines.Line2D at 0x225d2869ec8>,\n",
       " <matplotlib.lines.Line2D at 0x225d286d148>,\n",
       " <matplotlib.lines.Line2D at 0x225d286d388>,\n",
       " <matplotlib.lines.Line2D at 0x225d286d5c8>,\n",
       " <matplotlib.lines.Line2D at 0x225d286d808>,\n",
       " <matplotlib.lines.Line2D at 0x225d286da48>,\n",
       " <matplotlib.lines.Line2D at 0x225d286dc88>,\n",
       " <matplotlib.lines.Line2D at 0x225d286dec8>,\n",
       " <matplotlib.lines.Line2D at 0x225d2870148>,\n",
       " <matplotlib.lines.Line2D at 0x225d2870388>,\n",
       " <matplotlib.lines.Line2D at 0x225d28705c8>,\n",
       " <matplotlib.lines.Line2D at 0x225d2870808>,\n",
       " <matplotlib.lines.Line2D at 0x225d2870a48>,\n",
       " <matplotlib.lines.Line2D at 0x225d2870c88>,\n",
       " <matplotlib.lines.Line2D at 0x225d2870ec8>,\n",
       " <matplotlib.lines.Line2D at 0x225d2873148>,\n",
       " <matplotlib.lines.Line2D at 0x225d2873388>,\n",
       " <matplotlib.lines.Line2D at 0x225d28735c8>,\n",
       " <matplotlib.lines.Line2D at 0x225d2873808>]"
      ]
     },
     "execution_count": 7,
     "metadata": {},
     "output_type": "execute_result"
    }
   ],
   "source": [
    "# normalize to 1 \n",
    "\n",
    "dataPnn=np.zeros((13,50,50))\n",
    "for i in range(len(dataP)):\n",
    "    for j in range(50):\n",
    "        dataPnn[i,:,j]=dataP[i,:,j]/np.max(dataP[i,:,j])\n",
    "    #print(np.max(dataP[:,i,:]))#/np.diff(np.log10(h))\n",
    "print(np.max(dataPnn[3],axis=0))\n",
    "plt.plot(dataPnn[3])"
   ]
  },
  {
   "cell_type": "code",
   "execution_count": 8,
   "id": "dd7d4401",
   "metadata": {},
   "outputs": [
    {
     "data": {
      "text/plain": [
       "<Signal2D, title: , dimensions: (13|50, 50)>"
      ]
     },
     "execution_count": 8,
     "metadata": {},
     "output_type": "execute_result"
    }
   ],
   "source": [
    "# load data as 2D signal in hyperspy\n",
    "\n",
    "s=hs.signals.Signal2D(dataPnn)\n",
    "s"
   ]
  },
  {
   "cell_type": "code",
   "execution_count": 9,
   "id": "4ec5c54a",
   "metadata": {},
   "outputs": [
    {
     "name": "stdout",
     "output_type": "stream",
     "text": [
      "Decomposition info:\n",
      "  normalize_poissonian_noise=False\n",
      "  algorithm=SVD\n",
      "  output_dimension=None\n",
      "  centre=None\n"
     ]
    }
   ],
   "source": [
    "# SVD decomposition\n",
    "\n",
    "s.decomposition()"
   ]
  },
  {
   "cell_type": "code",
   "execution_count": 10,
   "id": "60f86dda",
   "metadata": {},
   "outputs": [
    {
     "data": {
      "text/plain": [
       "Text(0, 0.5, 'Cumulative Variance (%)')"
      ]
     },
     "execution_count": 10,
     "metadata": {},
     "output_type": "execute_result"
    }
   ],
   "source": [
    "# determine the number of end-members by calculating the cumulative variance given by SVD\n",
    "\n",
    "a=s.get_explained_variance_ratio()\n",
    "var=a.data\n",
    "#var\n",
    "varnorm=np.cumsum(var)\n",
    "varnorm\n",
    "pc_idx=np.linspace(1,10,10)\n",
    "plt.plot(pc_idx,varnorm[0:10]*100,'o')\n",
    "plt.xticks(np.arange(1,11,step=1))\n",
    "plt.xlabel('Principal Component index')\n",
    "plt.ylabel('Cumulative Variance (%)')"
   ]
  },
  {
   "cell_type": "code",
   "execution_count": 11,
   "id": "ddba3c5f",
   "metadata": {},
   "outputs": [],
   "source": [
    "# import Fastica module\n",
    "\n",
    "from sklearn.decomposition import FastICA"
   ]
  },
  {
   "cell_type": "code",
   "execution_count": 103,
   "id": "a85005aa",
   "metadata": {
    "scrolled": true
   },
   "outputs": [
    {
     "name": "stdout",
     "output_type": "stream",
     "text": [
      "[########################################] | 100% Completed |  0.1s\n"
     ]
    },
    {
     "name": "stderr",
     "output_type": "stream",
     "text": [
      "WARNING:hyperspy.misc.signal_tools:Axis calibration mismatch detected along axis 1. The calibration of signal 0 along this axis will be applied to all signals after stacking.\n"
     ]
    },
    {
     "name": "stdout",
     "output_type": "stream",
     "text": [
      "[########################################] | 100% Completed |  0.1s\n",
      "Blind source separation info:\n",
      "  number_of_components=2\n",
      "  algorithm=FastICA(fun='exp', random_state=1)\n",
      "  diff_order=3\n",
      "  reverse_component_criterion=factors\n",
      "  whiten_method=PCA\n",
      "scikit-learn estimator:\n",
      "FastICA(fun='exp', random_state=1)\n"
     ]
    }
   ],
   "source": [
    "# apply Fastica to the first two PCs provided by SVD\n",
    "\n",
    "s.blind_source_separation(number_of_components=2,algorithm=FastICA(algorithm='parallel',random_state=1,fun='exp'),diff_order=3)\n",
    "#s.blind_source_separation(number_of_components=2,algorithm='orthomax',diff_order=2)\n"
   ]
  },
  {
   "cell_type": "code",
   "execution_count": 104,
   "id": "6069c34e",
   "metadata": {},
   "outputs": [],
   "source": [
    "#s.plot_bss_results()"
   ]
  },
  {
   "cell_type": "code",
   "execution_count": 105,
   "id": "543a90bb",
   "metadata": {},
   "outputs": [
    {
     "data": {
      "text/plain": [
       "[<matplotlib.lines.Line2D at 0x225d68095c8>,\n",
       " <matplotlib.lines.Line2D at 0x225d68093c8>,\n",
       " <matplotlib.lines.Line2D at 0x225d683f488>,\n",
       " <matplotlib.lines.Line2D at 0x225d683f708>,\n",
       " <matplotlib.lines.Line2D at 0x225d683fec8>,\n",
       " <matplotlib.lines.Line2D at 0x225d68183c8>,\n",
       " <matplotlib.lines.Line2D at 0x225d6818548>,\n",
       " <matplotlib.lines.Line2D at 0x225d6818f48>,\n",
       " <matplotlib.lines.Line2D at 0x225d683fa08>,\n",
       " <matplotlib.lines.Line2D at 0x225d6818188>,\n",
       " <matplotlib.lines.Line2D at 0x225d6809988>,\n",
       " <matplotlib.lines.Line2D at 0x225d54b4608>,\n",
       " <matplotlib.lines.Line2D at 0x225d54b4d08>,\n",
       " <matplotlib.lines.Line2D at 0x225d54b4d88>,\n",
       " <matplotlib.lines.Line2D at 0x225d9fa3288>,\n",
       " <matplotlib.lines.Line2D at 0x225d9fa3ac8>,\n",
       " <matplotlib.lines.Line2D at 0x225d9fa3b88>,\n",
       " <matplotlib.lines.Line2D at 0x225d9fa38c8>,\n",
       " <matplotlib.lines.Line2D at 0x225d9fa3408>,\n",
       " <matplotlib.lines.Line2D at 0x225d9fa3f48>,\n",
       " <matplotlib.lines.Line2D at 0x225d680d548>,\n",
       " <matplotlib.lines.Line2D at 0x225d680d7c8>,\n",
       " <matplotlib.lines.Line2D at 0x225d680dc88>,\n",
       " <matplotlib.lines.Line2D at 0x225d680d8c8>,\n",
       " <matplotlib.lines.Line2D at 0x225d680de88>,\n",
       " <matplotlib.lines.Line2D at 0x225d680d748>,\n",
       " <matplotlib.lines.Line2D at 0x225d6812e88>,\n",
       " <matplotlib.lines.Line2D at 0x225d6812a48>,\n",
       " <matplotlib.lines.Line2D at 0x225d6812788>,\n",
       " <matplotlib.lines.Line2D at 0x225d6812308>,\n",
       " <matplotlib.lines.Line2D at 0x225d6812208>,\n",
       " <matplotlib.lines.Line2D at 0x225d6804c08>,\n",
       " <matplotlib.lines.Line2D at 0x225d6804488>,\n",
       " <matplotlib.lines.Line2D at 0x225d6804a48>,\n",
       " <matplotlib.lines.Line2D at 0x225d6804b48>,\n",
       " <matplotlib.lines.Line2D at 0x225d6804d88>,\n",
       " <matplotlib.lines.Line2D at 0x225d7a74a48>,\n",
       " <matplotlib.lines.Line2D at 0x225d88298c8>,\n",
       " <matplotlib.lines.Line2D at 0x225d8829448>,\n",
       " <matplotlib.lines.Line2D at 0x225d8829b48>,\n",
       " <matplotlib.lines.Line2D at 0x225d8829088>,\n",
       " <matplotlib.lines.Line2D at 0x225d88291c8>,\n",
       " <matplotlib.lines.Line2D at 0x225d8829408>,\n",
       " <matplotlib.lines.Line2D at 0x225d57f2708>,\n",
       " <matplotlib.lines.Line2D at 0x225d683c648>,\n",
       " <matplotlib.lines.Line2D at 0x225d683cf08>,\n",
       " <matplotlib.lines.Line2D at 0x225d683c748>,\n",
       " <matplotlib.lines.Line2D at 0x225d683c048>,\n",
       " <matplotlib.lines.Line2D at 0x225d6821088>,\n",
       " <matplotlib.lines.Line2D at 0x225d6821708>]"
      ]
     },
     "execution_count": 105,
     "metadata": {},
     "output_type": "execute_result"
    }
   ],
   "source": [
    "# get EM1 and plot it\n",
    "\n",
    "factors=s.get_bss_factors()\n",
    "em1=factors.inav[0].data\n",
    "plt.plot(em1)"
   ]
  },
  {
   "cell_type": "code",
   "execution_count": 96,
   "id": "22e27883",
   "metadata": {},
   "outputs": [
    {
     "data": {
      "text/plain": [
       "[<matplotlib.lines.Line2D at 0x225d5f63508>,\n",
       " <matplotlib.lines.Line2D at 0x225d5f63708>,\n",
       " <matplotlib.lines.Line2D at 0x225d5f638c8>,\n",
       " <matplotlib.lines.Line2D at 0x225d5f63a88>,\n",
       " <matplotlib.lines.Line2D at 0x225d5f63cc8>,\n",
       " <matplotlib.lines.Line2D at 0x225d5f63f48>,\n",
       " <matplotlib.lines.Line2D at 0x225d5f66188>,\n",
       " <matplotlib.lines.Line2D at 0x225d5f663c8>,\n",
       " <matplotlib.lines.Line2D at 0x225d5f63c48>,\n",
       " <matplotlib.lines.Line2D at 0x225d5f63ec8>,\n",
       " <matplotlib.lines.Line2D at 0x225d5f63548>,\n",
       " <matplotlib.lines.Line2D at 0x225d5f66c08>,\n",
       " <matplotlib.lines.Line2D at 0x225d5f66e48>,\n",
       " <matplotlib.lines.Line2D at 0x225d5f970c8>,\n",
       " <matplotlib.lines.Line2D at 0x225d5f97308>,\n",
       " <matplotlib.lines.Line2D at 0x225d5f97548>,\n",
       " <matplotlib.lines.Line2D at 0x225d5f97788>,\n",
       " <matplotlib.lines.Line2D at 0x225d5f979c8>,\n",
       " <matplotlib.lines.Line2D at 0x225d5f97c08>,\n",
       " <matplotlib.lines.Line2D at 0x225d5f97e48>,\n",
       " <matplotlib.lines.Line2D at 0x225d5f9c0c8>,\n",
       " <matplotlib.lines.Line2D at 0x225d5f9c308>,\n",
       " <matplotlib.lines.Line2D at 0x225d5f9c548>,\n",
       " <matplotlib.lines.Line2D at 0x225d5f9c788>,\n",
       " <matplotlib.lines.Line2D at 0x225d5f9c9c8>,\n",
       " <matplotlib.lines.Line2D at 0x225d5f9cc08>,\n",
       " <matplotlib.lines.Line2D at 0x225d5f9ce48>,\n",
       " <matplotlib.lines.Line2D at 0x225d5f960c8>,\n",
       " <matplotlib.lines.Line2D at 0x225d5f96308>,\n",
       " <matplotlib.lines.Line2D at 0x225d5f96548>,\n",
       " <matplotlib.lines.Line2D at 0x225d5f96788>,\n",
       " <matplotlib.lines.Line2D at 0x225d5f969c8>,\n",
       " <matplotlib.lines.Line2D at 0x225d5f96c08>,\n",
       " <matplotlib.lines.Line2D at 0x225d5f96e48>,\n",
       " <matplotlib.lines.Line2D at 0x225d8739b08>,\n",
       " <matplotlib.lines.Line2D at 0x225d87394c8>,\n",
       " <matplotlib.lines.Line2D at 0x225d8739688>,\n",
       " <matplotlib.lines.Line2D at 0x225d8739e08>,\n",
       " <matplotlib.lines.Line2D at 0x225d8739e88>,\n",
       " <matplotlib.lines.Line2D at 0x225d8739d48>,\n",
       " <matplotlib.lines.Line2D at 0x225d8739a88>,\n",
       " <matplotlib.lines.Line2D at 0x225d8702588>,\n",
       " <matplotlib.lines.Line2D at 0x225d8702388>,\n",
       " <matplotlib.lines.Line2D at 0x225d8702148>,\n",
       " <matplotlib.lines.Line2D at 0x225d8702908>,\n",
       " <matplotlib.lines.Line2D at 0x225d8702bc8>,\n",
       " <matplotlib.lines.Line2D at 0x225d8702d88>,\n",
       " <matplotlib.lines.Line2D at 0x225d87023c8>,\n",
       " <matplotlib.lines.Line2D at 0x225d87213c8>,\n",
       " <matplotlib.lines.Line2D at 0x225d8721cc8>]"
      ]
     },
     "execution_count": 96,
     "metadata": {},
     "output_type": "execute_result"
    }
   ],
   "source": [
    "# get EM2 and plot it (skip it for diff_order=3)\n",
    "\n",
    "em2=factors.inav[1].data\n",
    "plt.plot(em2)"
   ]
  },
  {
   "cell_type": "code",
   "execution_count": 97,
   "id": "374bf88c",
   "metadata": {},
   "outputs": [],
   "source": [
    "#em3=factors.inav[2].data\n",
    "#plt.plot(em3)"
   ]
  },
  {
   "cell_type": "code",
   "execution_count": 106,
   "id": "8585f168",
   "metadata": {},
   "outputs": [],
   "source": [
    "# Calculate Preisach map and plot it (see Church et al., 2016)\n",
    "\n",
    "def poza_Preisach_mean(data1,fields1):    \n",
    "    app_fields=np.mean(fields1,axis=0)\n",
    "    #cond_fields=np.genfromtxt('field', delimiter=',', skip_header=93, skip_footer=1,usecols=(0))\n",
    "    cond_fields=fields1[0,:]\n",
    "    cond_fields[0]=app_fields[0]\n",
    "    data2=data1\n",
    "    data3=np.zeros((len(data1),len(data1)))\n",
    "    lastpnt=len(data1)-1\n",
    "    ref=data2[lastpnt,0]\n",
    "    #print(ref)\n",
    "    #print(cond_fields)\n",
    "    #print(app_fields)\n",
    "    #for i in range(len(data1)):\n",
    "        #for j in range(1,len(data1)):\n",
    "            #data3[i,0]=((ref/data2[0,0])*((lastpnt-i)/lastpnt))+((ref/data2[lastpnt,0])*(i/lastpnt))\n",
    "            #data3[i,j]=(ref/data2[lastpnt,j-1])*((lastpnt-i)/lastpnt)+(ref/data2[lastpnt,j])*(i/lastpnt)\n",
    "    #data3=np.array(data3)\n",
    "    #if method == 'Preisach':\n",
    "        #data3=data3*data2\n",
    "    #elif method == 'FORC':\n",
    "        #data3=data2\n",
    "    #else:\n",
    "            #raise ValueError(\"Method must be 'Preisach' or 'FORC'.\")       \n",
    "    data3=data1\n",
    "    #print(data3[:,0]) \n",
    "    deltaM=np.zeros((len(data1)-1, len(data1)-1))\n",
    "    for i in range(len(data1)-1):\n",
    "        for j in range(len(data1)-1):\n",
    "            deltaM[i,j]=((data3[i,j]+data3[i+1,j+1])-(data3[i,j+1]+data3[i+1,j]))*(\n",
    "                (app_fields[i+1]+app_fields[i])*(cond_fields[j+1]+cond_fields[j]))/(\n",
    "               (app_fields[i+1]-app_fields[i])*(cond_fields[j+1]-cond_fields[j]))/8\n",
    "    deltaM=np.array(deltaM)\n",
    "    deltaM=deltaM/np.max(deltaM)\n",
    "    #return(deltaM,app_fields)\n",
    "    #%matplotlib notebook\n",
    "    from matplotlib import cm\n",
    "    from matplotlib.colors import ListedColormap\n",
    "    from matplotlib.colors import LinearSegmentedColormap\n",
    "    import matplotlib.colors as colors\n",
    "    def custom_div_cmap(numcolors=128, name='custom_div_cmap',\n",
    "                    col1='blue', col2='white', col3 = 'green', col4='yellow',col5='red',col6='purple'):\n",
    "        \n",
    "        cmap = LinearSegmentedColormap.from_list(\n",
    "                    name=name, \n",
    "                    colors=[col1, col2, col3, col4 ,col5,col6], \n",
    "                    N=numcolors\n",
    "                )\n",
    "    \n",
    "        return cmap \n",
    "    (cmap)=custom_div_cmap(numcolors=128, name='custom_div_cmap',\n",
    "                    col1='blue', col2='white', col3 = 'green', col4='yellow',col5='red',col6='purple')\n",
    "    colors_undersea = cmap(np.linspace(0, 0.199, 128))\n",
    "    colors_land = cmap(np.linspace(0.2, 1, 128))\n",
    "    divnorm = colors.TwoSlopeNorm(vmin=np.min(deltaM), vcenter=0, vmax=np.max(deltaM))\n",
    "    all_colors = np.vstack((colors_undersea, colors_land))\n",
    "    terrain_map = colors.LinearSegmentedColormap.from_list('terrain_map',\n",
    "        all_colors)\n",
    "    fig, ax = plt.subplots()\n",
    "    cs = ax.pcolor(app_fields[1:]*1000, cond_fields[1:]*1000,np.transpose(deltaM[0:,0:]),cmap=terrain_map,norm=divnorm)\n",
    "    plt.yscale('log')\n",
    "    plt.xscale('log')\n",
    "    #plt.ylim(max(app_fields[1:]*1000),min(app_fields[1:])*1000)\n",
    "    plt.ylim(max(app_fields[1:]*1000),min(app_fields[1:])*1000)\n",
    "    cbar = fig.colorbar(cs)\n",
    "    #fig2, plt.plot(np.sum(np.transpose(deltaM)))\n",
    "    return np.transpose(deltaM)"
   ]
  },
  {
   "cell_type": "code",
   "execution_count": 107,
   "id": "5b03c0e2",
   "metadata": {},
   "outputs": [],
   "source": [
    "# load field values for Preisach maps\n",
    "\n",
    "l1=np.genfromtxt('COS-L1_NLP50steps_0.1-1000mT_3sec.csv',delimiter=',',skip_header=241,usecols=(3,4))\n",
    "l1f=np.reshape(l1[:,0],(50,50))\n",
    "l1p=np.reshape(l1[:,1],(50,50))"
   ]
  },
  {
   "cell_type": "code",
   "execution_count": 108,
   "id": "0b77f6c8",
   "metadata": {},
   "outputs": [],
   "source": [
    "#plot EM1 Preisach. Inspect the EM1 Preisach map structure and if you are satisfied with it \n",
    "#(correspond to physically plausible Preisach pattern) you can keep it. If no then perform again Fastica \n",
    "# using a higher derivative order (see the cells bellow). In our case Em1 has no physically plausible aspect (negative region across diagonal)\n",
    "\n",
    "em1p=poza_Preisach_mean(em1,l1f)"
   ]
  },
  {
   "cell_type": "code",
   "execution_count": 109,
   "id": "1eed4aa2",
   "metadata": {},
   "outputs": [],
   "source": [
    "# plot EM2 Preisach. Inspect the EM2 Preisach map structure and if you are satisfied with it \n",
    "#(correspond to physically plausible Preisach pattern) you can keep it. If no then perform again Fastica \n",
    "# using a higher derivative order. In our case the second derivative provide a physically plausible EM2. (this reproduce Fig. 4a) \n",
    "\n",
    "em2p=poza_Preisach_mean(em2,l1f)"
   ]
  },
  {
   "cell_type": "code",
   "execution_count": 102,
   "id": "f43f5da4",
   "metadata": {},
   "outputs": [],
   "source": [
    "# perform fastica using diff order = 2 by setting diff_order = 2 in s.blind_source_separation above and assign the resulted \n",
    "# em2 to final EM2 (this reproduce Fig. 5a) (skip it for diff_order=3)\n",
    "\n",
    "em2_diff2=em2\n",
    "em2p=poza_Preisach_mean(em2_diff2,l1f)"
   ]
  },
  {
   "cell_type": "code",
   "execution_count": 110,
   "id": "16f32f18",
   "metadata": {},
   "outputs": [],
   "source": [
    "# perform fastica using diff order = 3 by setting diff_order = 3 in s.blind_source_separation above and assign the resulted \n",
    "# em1 to final EM1 (this reproduce Fig. 5b)\n",
    "\n",
    "em1_diff3=em1\n",
    "em1p=poza_Preisach_mean(em1_diff3,l1f)"
   ]
  },
  {
   "cell_type": "code",
   "execution_count": 111,
   "id": "287b5848",
   "metadata": {},
   "outputs": [
    {
     "data": {
      "text/plain": [
       "Text(80, 0.06, '~65mT')"
      ]
     },
     "execution_count": 111,
     "metadata": {},
     "output_type": "execute_result"
    }
   ],
   "source": [
    "# calculate and plot the remanence gradient from Preisach maps. (this reproduce Fig. 5c)\n",
    "\n",
    "plt.plot(l1f[1][1:]*1000,np.sum(em2p,axis=0)/np.max(np.sum(em2p)))\n",
    "plt.plot(l1f[1][1:]*1000,np.sum(em1p,axis=0)/np.max(np.sum(em1p)))\n",
    "plt.xscale('log')\n",
    "plt.text(3,0.06,'~22mT',fontsize=15)\n",
    "plt.text(80,0.06,'~65mT',fontsize=15)"
   ]
  },
  {
   "cell_type": "code",
   "execution_count": 112,
   "id": "94becc95",
   "metadata": {},
   "outputs": [
    {
     "name": "stdout",
     "output_type": "stream",
     "text": [
      "[1. 1. 1. 1. 1. 1. 1. 1. 1. 1. 1. 1. 1. 1. 1. 1. 1. 1. 1. 1. 1. 1. 1. 1.\n",
      " 1. 1. 1. 1. 1. 1. 1. 1. 1. 1. 1. 1. 1. 1. 1. 1. 1. 1. 1. 1. 1. 1. 1. 1.\n",
      " 1. 1.]\n"
     ]
    },
    {
     "data": {
      "text/plain": [
       "[<matplotlib.lines.Line2D at 0x225d9d870c8>,\n",
       " <matplotlib.lines.Line2D at 0x225d9d9f588>,\n",
       " <matplotlib.lines.Line2D at 0x225d9d9f208>,\n",
       " <matplotlib.lines.Line2D at 0x225d9d9f048>,\n",
       " <matplotlib.lines.Line2D at 0x225d9d9f3c8>,\n",
       " <matplotlib.lines.Line2D at 0x225d9d9fdc8>,\n",
       " <matplotlib.lines.Line2D at 0x225d9d9ff48>,\n",
       " <matplotlib.lines.Line2D at 0x225d9d9fe08>,\n",
       " <matplotlib.lines.Line2D at 0x225d9d9f448>,\n",
       " <matplotlib.lines.Line2D at 0x225d9d9fb08>,\n",
       " <matplotlib.lines.Line2D at 0x225d9d87148>,\n",
       " <matplotlib.lines.Line2D at 0x225db8aa248>,\n",
       " <matplotlib.lines.Line2D at 0x225db8aad48>,\n",
       " <matplotlib.lines.Line2D at 0x225db8aa288>,\n",
       " <matplotlib.lines.Line2D at 0x225db8b0548>,\n",
       " <matplotlib.lines.Line2D at 0x225db8b03c8>,\n",
       " <matplotlib.lines.Line2D at 0x225db8b0748>,\n",
       " <matplotlib.lines.Line2D at 0x225db8b0e48>,\n",
       " <matplotlib.lines.Line2D at 0x225db8b01c8>,\n",
       " <matplotlib.lines.Line2D at 0x225db8b09c8>,\n",
       " <matplotlib.lines.Line2D at 0x225db890248>,\n",
       " <matplotlib.lines.Line2D at 0x225db890a48>,\n",
       " <matplotlib.lines.Line2D at 0x225db890d48>,\n",
       " <matplotlib.lines.Line2D at 0x225db890748>,\n",
       " <matplotlib.lines.Line2D at 0x225db8906c8>,\n",
       " <matplotlib.lines.Line2D at 0x225db89ba48>,\n",
       " <matplotlib.lines.Line2D at 0x225db89b908>,\n",
       " <matplotlib.lines.Line2D at 0x225db89b148>,\n",
       " <matplotlib.lines.Line2D at 0x225db89bfc8>,\n",
       " <matplotlib.lines.Line2D at 0x225db89b5c8>,\n",
       " <matplotlib.lines.Line2D at 0x225db89b408>,\n",
       " <matplotlib.lines.Line2D at 0x225db8b6248>,\n",
       " <matplotlib.lines.Line2D at 0x225db8b6fc8>,\n",
       " <matplotlib.lines.Line2D at 0x225db8b63c8>,\n",
       " <matplotlib.lines.Line2D at 0x225db8b6dc8>,\n",
       " <matplotlib.lines.Line2D at 0x225db8b6e88>,\n",
       " <matplotlib.lines.Line2D at 0x225db8b2808>,\n",
       " <matplotlib.lines.Line2D at 0x225db8b2b08>,\n",
       " <matplotlib.lines.Line2D at 0x225db8b2dc8>,\n",
       " <matplotlib.lines.Line2D at 0x225db8b2948>,\n",
       " <matplotlib.lines.Line2D at 0x225db8b2248>,\n",
       " <matplotlib.lines.Line2D at 0x225db8b2508>,\n",
       " <matplotlib.lines.Line2D at 0x225db8b1b48>,\n",
       " <matplotlib.lines.Line2D at 0x225db8b1c48>,\n",
       " <matplotlib.lines.Line2D at 0x225db8b16c8>,\n",
       " <matplotlib.lines.Line2D at 0x225db8b1208>,\n",
       " <matplotlib.lines.Line2D at 0x225db895d48>,\n",
       " <matplotlib.lines.Line2D at 0x225db895588>,\n",
       " <matplotlib.lines.Line2D at 0x225db8953c8>,\n",
       " <matplotlib.lines.Line2D at 0x225db895e48>]"
      ]
     },
     "execution_count": 112,
     "metadata": {},
     "output_type": "execute_result"
    }
   ],
   "source": [
    "# normalize EM1\n",
    "\n",
    "em1_diff3n=np.zeros((50,50))\n",
    "for i in range(len(em1_diff3)):\n",
    "    em1_diff3n[i,:]=em1_diff3[i,:]/np.max(em1_diff3[i,:])\n",
    "    #print(np.max(dataP[:,i,:]))#/np.diff(np.log10(h))\n",
    "\n",
    "#em1_diff3n = em1_diff3/np.max(em1_diff3)\n",
    "print(np.max(em1_diff3n,axis=1))\n",
    "plt.plot(em1_diff3n)"
   ]
  },
  {
   "cell_type": "code",
   "execution_count": 113,
   "id": "740673aa",
   "metadata": {},
   "outputs": [
    {
     "name": "stdout",
     "output_type": "stream",
     "text": [
      "[1. 1. 1. 1. 1. 1. 1. 1. 1. 1. 1. 1. 1. 1. 1. 1. 1. 1. 1. 1. 1. 1. 1. 1.\n",
      " 1. 1. 1. 1. 1. 1. 1. 1. 1. 1. 1. 1. 1. 1. 1. 1. 1. 1. 1. 1. 1. 1. 1. 1.\n",
      " 1. 1.]\n"
     ]
    },
    {
     "data": {
      "text/plain": [
       "[<matplotlib.lines.Line2D at 0x225dbd16708>,\n",
       " <matplotlib.lines.Line2D at 0x225dbd16908>,\n",
       " <matplotlib.lines.Line2D at 0x225dbd16ac8>,\n",
       " <matplotlib.lines.Line2D at 0x225dbd16c88>,\n",
       " <matplotlib.lines.Line2D at 0x225dbd16f48>,\n",
       " <matplotlib.lines.Line2D at 0x225dbd1c248>,\n",
       " <matplotlib.lines.Line2D at 0x225dbd1c448>,\n",
       " <matplotlib.lines.Line2D at 0x225dbd1c6c8>,\n",
       " <matplotlib.lines.Line2D at 0x225dbd16e88>,\n",
       " <matplotlib.lines.Line2D at 0x225dbd1c188>,\n",
       " <matplotlib.lines.Line2D at 0x225dbd16748>,\n",
       " <matplotlib.lines.Line2D at 0x225dbd20048>,\n",
       " <matplotlib.lines.Line2D at 0x225dbd202c8>,\n",
       " <matplotlib.lines.Line2D at 0x225dbd20548>,\n",
       " <matplotlib.lines.Line2D at 0x225dbd207c8>,\n",
       " <matplotlib.lines.Line2D at 0x225dbd20a48>,\n",
       " <matplotlib.lines.Line2D at 0x225dbd20cc8>,\n",
       " <matplotlib.lines.Line2D at 0x225dbd20f48>,\n",
       " <matplotlib.lines.Line2D at 0x225dbd22208>,\n",
       " <matplotlib.lines.Line2D at 0x225dbd22488>,\n",
       " <matplotlib.lines.Line2D at 0x225dbd22708>,\n",
       " <matplotlib.lines.Line2D at 0x225dbd22988>,\n",
       " <matplotlib.lines.Line2D at 0x225dbd22c08>,\n",
       " <matplotlib.lines.Line2D at 0x225dbd22e88>,\n",
       " <matplotlib.lines.Line2D at 0x225dbd25148>,\n",
       " <matplotlib.lines.Line2D at 0x225dbd253c8>,\n",
       " <matplotlib.lines.Line2D at 0x225dbd25648>,\n",
       " <matplotlib.lines.Line2D at 0x225dbd258c8>,\n",
       " <matplotlib.lines.Line2D at 0x225dbd25b48>,\n",
       " <matplotlib.lines.Line2D at 0x225dbd25dc8>,\n",
       " <matplotlib.lines.Line2D at 0x225dbd26088>,\n",
       " <matplotlib.lines.Line2D at 0x225dbd26308>,\n",
       " <matplotlib.lines.Line2D at 0x225dbd26588>,\n",
       " <matplotlib.lines.Line2D at 0x225dbd26808>,\n",
       " <matplotlib.lines.Line2D at 0x225dbd26a88>,\n",
       " <matplotlib.lines.Line2D at 0x225dbd26d08>,\n",
       " <matplotlib.lines.Line2D at 0x225dbd26f88>,\n",
       " <matplotlib.lines.Line2D at 0x225dbd2a248>,\n",
       " <matplotlib.lines.Line2D at 0x225dbd2a4c8>,\n",
       " <matplotlib.lines.Line2D at 0x225dbd2a748>,\n",
       " <matplotlib.lines.Line2D at 0x225dbd2a9c8>,\n",
       " <matplotlib.lines.Line2D at 0x225dbd2ac48>,\n",
       " <matplotlib.lines.Line2D at 0x225dbd2aec8>,\n",
       " <matplotlib.lines.Line2D at 0x225dbd2d188>,\n",
       " <matplotlib.lines.Line2D at 0x225dbd2d408>,\n",
       " <matplotlib.lines.Line2D at 0x225dbd2d688>,\n",
       " <matplotlib.lines.Line2D at 0x225dbd2d908>,\n",
       " <matplotlib.lines.Line2D at 0x225dbd2db88>,\n",
       " <matplotlib.lines.Line2D at 0x225dbd2de08>,\n",
       " <matplotlib.lines.Line2D at 0x225dbd300c8>]"
      ]
     },
     "execution_count": 113,
     "metadata": {},
     "output_type": "execute_result"
    }
   ],
   "source": [
    "# normalize EM2\n",
    "\n",
    "em2_diff2n=np.zeros((50,50))\n",
    "for i in range(len(em2_diff2)):\n",
    "    em2_diff2n[i,:]=em2_diff2[i,:]/np.max(em2_diff2[i,:])\n",
    "    #print(np.max(dataP[:,i,:]))#/np.diff(np.log10(h))\n",
    "    \n",
    "#em2_diff2n = em2_diff2/np.max(em2_diff2)\n",
    "print(np.max(em2_diff2n,axis=1))\n",
    "plt.plot(em2_diff2n)"
   ]
  },
  {
   "cell_type": "code",
   "execution_count": 114,
   "id": "0d667a2d",
   "metadata": {},
   "outputs": [
    {
     "data": {
      "text/plain": [
       "(13, 2500)"
      ]
     },
     "execution_count": 114,
     "metadata": {},
     "output_type": "execute_result"
    }
   ],
   "source": [
    "# normalized initial data\n",
    "\n",
    "data_init=dataPnn.reshape((13,2500))\n",
    "data_init.shape"
   ]
  },
  {
   "cell_type": "code",
   "execution_count": 115,
   "id": "5cfd6d08",
   "metadata": {},
   "outputs": [
    {
     "data": {
      "text/plain": [
       "(2500,)"
      ]
     },
     "execution_count": 115,
     "metadata": {},
     "output_type": "execute_result"
    }
   ],
   "source": [
    "# vectorize EM2\n",
    "\n",
    "em2_diff2n_n=em2_diff2n.flatten()\n",
    "em2_diff2n_n.shape"
   ]
  },
  {
   "cell_type": "code",
   "execution_count": 116,
   "id": "c6c75b2e",
   "metadata": {},
   "outputs": [
    {
     "data": {
      "text/plain": [
       "(2500,)"
      ]
     },
     "execution_count": 116,
     "metadata": {},
     "output_type": "execute_result"
    }
   ],
   "source": [
    "# vectorize EM1\n",
    "\n",
    "em1_diff3n_n=em1_diff3n.flatten()\n",
    "em1_diff3n_n.shape"
   ]
  },
  {
   "cell_type": "code",
   "execution_count": 117,
   "id": "53220133",
   "metadata": {},
   "outputs": [
    {
     "data": {
      "text/plain": [
       "(2, 2500)"
      ]
     },
     "execution_count": 117,
     "metadata": {},
     "output_type": "execute_result"
    }
   ],
   "source": [
    "# stack them forming thus the ems matrix\n",
    "\n",
    "ems=np.vstack((em2_diff2n_n,em1_diff3n_n))\n",
    "ems.shape"
   ]
  },
  {
   "cell_type": "code",
   "execution_count": 118,
   "id": "58527078",
   "metadata": {},
   "outputs": [],
   "source": [
    "# calculate the pseudo inverse of the ems matrix\n",
    "\n",
    "ems_pinv=np.linalg.pinv(ems)"
   ]
  },
  {
   "cell_type": "code",
   "execution_count": 119,
   "id": "034e29b6",
   "metadata": {},
   "outputs": [
    {
     "data": {
      "text/plain": [
       "(13, 2)"
      ]
     },
     "execution_count": 119,
     "metadata": {},
     "output_type": "execute_result"
    }
   ],
   "source": [
    "# calculate the relative contributions by matrix multiplication between the initial data and pseudo inverse of the ems matrix\n",
    "\n",
    "ab=np.matmul(data_init,ems_pinv)\n",
    "ab.shape"
   ]
  },
  {
   "cell_type": "code",
   "execution_count": 120,
   "id": "e0edb5e4",
   "metadata": {},
   "outputs": [
    {
     "name": "stderr",
     "output_type": "stream",
     "text": [
      "WARNING:matplotlib.legend:No handles with labels found to put in legend.\n"
     ]
    },
    {
     "data": {
      "text/plain": [
       "<matplotlib.lines.Line2D at 0x225dd055708>"
      ]
     },
     "execution_count": 120,
     "metadata": {},
     "output_type": "execute_result"
    }
   ],
   "source": [
    "# stack plot of the relative contributiona. (this reproduce Fig. 5d)\n",
    "\n",
    "ab1ln=ab[:,0]/(ab[:,0]+ab[:,1])\n",
    "ab2ln=ab[:,1]/(ab[:,0]+ab[:,1])\n",
    "\n",
    "#ab1ln=ab[:,0]\n",
    "#ab2ln=ab[:,1]\n",
    "ab1n=np.array([ab1ln[6],ab1ln[0],ab1ln[7],ab1ln[1],ab1ln[8],ab1ln[2],ab1ln[9],ab1ln[3],ab1ln[10],ab1ln[4],ab1ln[11],ab1ln[5],ab1ln[12]])\n",
    "ab2n=np.array([ab2ln[6],ab2ln[0],ab2ln[7],ab2ln[1],ab2ln[8],ab2ln[2],ab2ln[9],ab2ln[3],ab2ln[10],ab2ln[4],ab2ln[11],ab2ln[5],ab2ln[12]])\n",
    "#print(em1ln)\n",
    "#print(em2ln)\n",
    "\n",
    "#em1ln+em2ln\n",
    "#xx=np.linspace(1,13,13)\n",
    "\n",
    "depth=np.genfromtxt('Lunca_depth_Preisach.txt')\n",
    "#depth=pcomb[:,0]\n",
    "plt.legend(loc='upper left')\n",
    "\n",
    "plt.stackplot(depth,ab1n,ab2n)\n",
    "plt.axhline(y=0.5,color='white')"
   ]
  },
  {
   "cell_type": "code",
   "execution_count": 59,
   "id": "b4fb928d",
   "metadata": {},
   "outputs": [],
   "source": [
    "# plot EM1\n",
    "\n",
    "em1pn=poza_Preisach_mean(em1_diff3n,l1f)"
   ]
  },
  {
   "cell_type": "code",
   "execution_count": 60,
   "id": "2bdf43fe",
   "metadata": {},
   "outputs": [],
   "source": [
    "#plot EM2\n",
    "\n",
    "em2pn=poza_Preisach_mean(em2_diff2n,l1f)"
   ]
  },
  {
   "cell_type": "code",
   "execution_count": 133,
   "id": "37239920",
   "metadata": {},
   "outputs": [],
   "source": [
    "np.savetxt('TM_EM1_Preisach_fastica.txt',ab1n,delimiter='\\t')\n",
    "np.savetxt('TM_EM2_Preisach_fastica.txt',ab2n,delimiter='\\t')"
   ]
  },
  {
   "cell_type": "code",
   "execution_count": null,
   "id": "8c98b9b5",
   "metadata": {},
   "outputs": [],
   "source": []
  }
 ],
 "metadata": {
  "kernelspec": {
   "display_name": "Python 3 (ipykernel)",
   "language": "python",
   "name": "python3"
  },
  "language_info": {
   "codemirror_mode": {
    "name": "ipython",
    "version": 3
   },
   "file_extension": ".py",
   "mimetype": "text/x-python",
   "name": "python",
   "nbconvert_exporter": "python",
   "pygments_lexer": "ipython3",
   "version": "3.7.11"
  }
 },
 "nbformat": 4,
 "nbformat_minor": 5
}
